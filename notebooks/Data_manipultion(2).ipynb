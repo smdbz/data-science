{
 "cells": [
  {
   "cell_type": "markdown",
   "id": "b51887ff",
   "metadata": {},
   "source": [
    "## Data Manipulation and python syntax"
   ]
  },
  {
   "cell_type": "code",
   "id": "6e4b3e8d",
   "metadata": {
    "ExecuteTime": {
     "end_time": "2025-10-16T22:45:45.798050Z",
     "start_time": "2025-10-16T22:45:45.773100Z"
    }
   },
   "source": [
    "import pandas as pd\n",
    "from utils import setup_project_root\n",
    "setup_project_root()\n",
    "planes = pd.read_csv(r\"data/planes.csv\")\n",
    "planes"
   ],
   "outputs": [
    {
     "data": {
      "text/plain": [
       "           Airline Date_of_Journey    Source Destination  \\\n",
       "0      Jet Airways       9/06/2019     Delhi      Cochin   \n",
       "1           IndiGo      12/05/2019   Kolkata    Banglore   \n",
       "2           IndiGo      01/03/2019  Banglore   New Delhi   \n",
       "3         SpiceJet      24/06/2019   Kolkata    Banglore   \n",
       "4      Jet Airways      12/03/2019  Banglore   New Delhi   \n",
       "...            ...             ...       ...         ...   \n",
       "10655     Air Asia       9/04/2019   Kolkata    Banglore   \n",
       "10656    Air India      27/04/2019   Kolkata    Banglore   \n",
       "10657  Jet Airways      27/04/2019  Banglore       Delhi   \n",
       "10658      Vistara      01/03/2019  Banglore   New Delhi   \n",
       "10659    Air India       9/05/2019     Delhi      Cochin   \n",
       "\n",
       "                       Route Dep_Time  Arrival_Time Duration Total_Stops  \\\n",
       "0      DEL → LKO → BOM → COK    09:25  04:25 10 Jun      19h     2 stops   \n",
       "1            CCU → NAG → BLR    18:05         23:30   5h 25m      1 stop   \n",
       "2            BLR → NAG → DEL    16:50         21:35   4h 45m      1 stop   \n",
       "3                  CCU → BLR    09:00         11:25   2h 25m    non-stop   \n",
       "4            BLR → BOM → DEL    18:55  10:25 13 Mar  15h 30m      1 stop   \n",
       "...                      ...      ...           ...      ...         ...   \n",
       "10655              CCU → BLR    19:55         22:25   2h 30m    non-stop   \n",
       "10656              CCU → BLR    20:45         23:20   2h 35m    non-stop   \n",
       "10657              BLR → DEL      NaN         11:20       3h    non-stop   \n",
       "10658              BLR → DEL    11:30         14:10   2h 40m    non-stop   \n",
       "10659  DEL → GOI → BOM → COK    10:55         19:15   8h 20m     2 stops   \n",
       "\n",
       "                   Additional_Info    Price  \n",
       "0                          No info  13882.0  \n",
       "1                          No info   6218.0  \n",
       "2                          No info  13302.0  \n",
       "3                          No info   3873.0  \n",
       "4      In-flight meal not included  11087.0  \n",
       "...                            ...      ...  \n",
       "10655                      No info   4107.0  \n",
       "10656                      No info   4145.0  \n",
       "10657                          NaN   7229.0  \n",
       "10658                      No info  12648.0  \n",
       "10659                      No info  11753.0  \n",
       "\n",
       "[10660 rows x 11 columns]"
      ],
      "text/html": [
       "<div>\n",
       "<style scoped>\n",
       "    .dataframe tbody tr th:only-of-type {\n",
       "        vertical-align: middle;\n",
       "    }\n",
       "\n",
       "    .dataframe tbody tr th {\n",
       "        vertical-align: top;\n",
       "    }\n",
       "\n",
       "    .dataframe thead th {\n",
       "        text-align: right;\n",
       "    }\n",
       "</style>\n",
       "<table border=\"1\" class=\"dataframe\">\n",
       "  <thead>\n",
       "    <tr style=\"text-align: right;\">\n",
       "      <th></th>\n",
       "      <th>Airline</th>\n",
       "      <th>Date_of_Journey</th>\n",
       "      <th>Source</th>\n",
       "      <th>Destination</th>\n",
       "      <th>Route</th>\n",
       "      <th>Dep_Time</th>\n",
       "      <th>Arrival_Time</th>\n",
       "      <th>Duration</th>\n",
       "      <th>Total_Stops</th>\n",
       "      <th>Additional_Info</th>\n",
       "      <th>Price</th>\n",
       "    </tr>\n",
       "  </thead>\n",
       "  <tbody>\n",
       "    <tr>\n",
       "      <th>0</th>\n",
       "      <td>Jet Airways</td>\n",
       "      <td>9/06/2019</td>\n",
       "      <td>Delhi</td>\n",
       "      <td>Cochin</td>\n",
       "      <td>DEL → LKO → BOM → COK</td>\n",
       "      <td>09:25</td>\n",
       "      <td>04:25 10 Jun</td>\n",
       "      <td>19h</td>\n",
       "      <td>2 stops</td>\n",
       "      <td>No info</td>\n",
       "      <td>13882.0</td>\n",
       "    </tr>\n",
       "    <tr>\n",
       "      <th>1</th>\n",
       "      <td>IndiGo</td>\n",
       "      <td>12/05/2019</td>\n",
       "      <td>Kolkata</td>\n",
       "      <td>Banglore</td>\n",
       "      <td>CCU → NAG → BLR</td>\n",
       "      <td>18:05</td>\n",
       "      <td>23:30</td>\n",
       "      <td>5h 25m</td>\n",
       "      <td>1 stop</td>\n",
       "      <td>No info</td>\n",
       "      <td>6218.0</td>\n",
       "    </tr>\n",
       "    <tr>\n",
       "      <th>2</th>\n",
       "      <td>IndiGo</td>\n",
       "      <td>01/03/2019</td>\n",
       "      <td>Banglore</td>\n",
       "      <td>New Delhi</td>\n",
       "      <td>BLR → NAG → DEL</td>\n",
       "      <td>16:50</td>\n",
       "      <td>21:35</td>\n",
       "      <td>4h 45m</td>\n",
       "      <td>1 stop</td>\n",
       "      <td>No info</td>\n",
       "      <td>13302.0</td>\n",
       "    </tr>\n",
       "    <tr>\n",
       "      <th>3</th>\n",
       "      <td>SpiceJet</td>\n",
       "      <td>24/06/2019</td>\n",
       "      <td>Kolkata</td>\n",
       "      <td>Banglore</td>\n",
       "      <td>CCU → BLR</td>\n",
       "      <td>09:00</td>\n",
       "      <td>11:25</td>\n",
       "      <td>2h 25m</td>\n",
       "      <td>non-stop</td>\n",
       "      <td>No info</td>\n",
       "      <td>3873.0</td>\n",
       "    </tr>\n",
       "    <tr>\n",
       "      <th>4</th>\n",
       "      <td>Jet Airways</td>\n",
       "      <td>12/03/2019</td>\n",
       "      <td>Banglore</td>\n",
       "      <td>New Delhi</td>\n",
       "      <td>BLR → BOM → DEL</td>\n",
       "      <td>18:55</td>\n",
       "      <td>10:25 13 Mar</td>\n",
       "      <td>15h 30m</td>\n",
       "      <td>1 stop</td>\n",
       "      <td>In-flight meal not included</td>\n",
       "      <td>11087.0</td>\n",
       "    </tr>\n",
       "    <tr>\n",
       "      <th>...</th>\n",
       "      <td>...</td>\n",
       "      <td>...</td>\n",
       "      <td>...</td>\n",
       "      <td>...</td>\n",
       "      <td>...</td>\n",
       "      <td>...</td>\n",
       "      <td>...</td>\n",
       "      <td>...</td>\n",
       "      <td>...</td>\n",
       "      <td>...</td>\n",
       "      <td>...</td>\n",
       "    </tr>\n",
       "    <tr>\n",
       "      <th>10655</th>\n",
       "      <td>Air Asia</td>\n",
       "      <td>9/04/2019</td>\n",
       "      <td>Kolkata</td>\n",
       "      <td>Banglore</td>\n",
       "      <td>CCU → BLR</td>\n",
       "      <td>19:55</td>\n",
       "      <td>22:25</td>\n",
       "      <td>2h 30m</td>\n",
       "      <td>non-stop</td>\n",
       "      <td>No info</td>\n",
       "      <td>4107.0</td>\n",
       "    </tr>\n",
       "    <tr>\n",
       "      <th>10656</th>\n",
       "      <td>Air India</td>\n",
       "      <td>27/04/2019</td>\n",
       "      <td>Kolkata</td>\n",
       "      <td>Banglore</td>\n",
       "      <td>CCU → BLR</td>\n",
       "      <td>20:45</td>\n",
       "      <td>23:20</td>\n",
       "      <td>2h 35m</td>\n",
       "      <td>non-stop</td>\n",
       "      <td>No info</td>\n",
       "      <td>4145.0</td>\n",
       "    </tr>\n",
       "    <tr>\n",
       "      <th>10657</th>\n",
       "      <td>Jet Airways</td>\n",
       "      <td>27/04/2019</td>\n",
       "      <td>Banglore</td>\n",
       "      <td>Delhi</td>\n",
       "      <td>BLR → DEL</td>\n",
       "      <td>NaN</td>\n",
       "      <td>11:20</td>\n",
       "      <td>3h</td>\n",
       "      <td>non-stop</td>\n",
       "      <td>NaN</td>\n",
       "      <td>7229.0</td>\n",
       "    </tr>\n",
       "    <tr>\n",
       "      <th>10658</th>\n",
       "      <td>Vistara</td>\n",
       "      <td>01/03/2019</td>\n",
       "      <td>Banglore</td>\n",
       "      <td>New Delhi</td>\n",
       "      <td>BLR → DEL</td>\n",
       "      <td>11:30</td>\n",
       "      <td>14:10</td>\n",
       "      <td>2h 40m</td>\n",
       "      <td>non-stop</td>\n",
       "      <td>No info</td>\n",
       "      <td>12648.0</td>\n",
       "    </tr>\n",
       "    <tr>\n",
       "      <th>10659</th>\n",
       "      <td>Air India</td>\n",
       "      <td>9/05/2019</td>\n",
       "      <td>Delhi</td>\n",
       "      <td>Cochin</td>\n",
       "      <td>DEL → GOI → BOM → COK</td>\n",
       "      <td>10:55</td>\n",
       "      <td>19:15</td>\n",
       "      <td>8h 20m</td>\n",
       "      <td>2 stops</td>\n",
       "      <td>No info</td>\n",
       "      <td>11753.0</td>\n",
       "    </tr>\n",
       "  </tbody>\n",
       "</table>\n",
       "<p>10660 rows × 11 columns</p>\n",
       "</div>"
      ]
     },
     "execution_count": 3,
     "metadata": {},
     "output_type": "execute_result"
    }
   ],
   "execution_count": 3
  },
  {
   "cell_type": "markdown",
   "id": "3dd49cba",
   "metadata": {},
   "source": [
    "## Looking at d-types"
   ]
  },
  {
   "cell_type": "code",
   "id": "39dc156e",
   "metadata": {
    "ExecuteTime": {
     "end_time": "2025-10-16T22:45:48.536078Z",
     "start_time": "2025-10-16T22:45:48.527828Z"
    }
   },
   "source": [
    "planes.info()"
   ],
   "outputs": [
    {
     "name": "stdout",
     "output_type": "stream",
     "text": [
      "<class 'pandas.core.frame.DataFrame'>\n",
      "RangeIndex: 10660 entries, 0 to 10659\n",
      "Data columns (total 11 columns):\n",
      " #   Column           Non-Null Count  Dtype  \n",
      "---  ------           --------------  -----  \n",
      " 0   Airline          10233 non-null  object \n",
      " 1   Date_of_Journey  10338 non-null  object \n",
      " 2   Source           10473 non-null  object \n",
      " 3   Destination      10313 non-null  object \n",
      " 4   Route            10404 non-null  object \n",
      " 5   Dep_Time         10400 non-null  object \n",
      " 6   Arrival_Time     10466 non-null  object \n",
      " 7   Duration         10446 non-null  object \n",
      " 8   Total_Stops      10448 non-null  object \n",
      " 9   Additional_Info  10071 non-null  object \n",
      " 10  Price            10044 non-null  float64\n",
      "dtypes: float64(1), object(10)\n",
      "memory usage: 916.2+ KB\n"
     ]
    }
   ],
   "execution_count": 4
  },
  {
   "cell_type": "code",
   "id": "f217a012",
   "metadata": {
    "ExecuteTime": {
     "end_time": "2025-10-16T22:45:48.940501Z",
     "start_time": "2025-10-16T22:45:48.927232Z"
    }
   },
   "source": [
    "## Converting into dates\n",
    "planes['Date_of_Journey'] = pd.to_datetime(planes['Date_of_Journey'], format='%d/%m/%Y')\n",
    "planes['Day of Week'] = planes['Date_of_Journey'].dt.day_name()\n",
    "\n",
    "planes[['Date_of_Journey', 'Day of Week']]\n",
    "\n",
    "def weekend(day):\n",
    "    if day in ['Sunday', 'Saturday']:\n",
    "        return True\n",
    "    else:\n",
    "        return False\n",
    "\n",
    "planes['Weekend'] = planes['Day of Week'].transform(weekend)\n",
    "planes[['Date_of_Journey', 'Day of Week', 'Weekend']]\n",
    "\n",
    "beginning_week_flights = planes[planes['Day of Week'].isin(['Monday', 'Tuesday', 'Wednesday'])]"
   ],
   "outputs": [],
   "execution_count": 5
  },
  {
   "cell_type": "code",
   "id": "5222b152",
   "metadata": {
    "ExecuteTime": {
     "end_time": "2025-10-16T22:45:49.270760Z",
     "start_time": "2025-10-16T22:45:49.266110Z"
    }
   },
   "source": [
    "round(beginning_week_flights['Day of Week'].value_counts(normalize=True), 2)*100"
   ],
   "outputs": [
    {
     "data": {
      "text/plain": [
       "Day of Week\n",
       "Wednesday    43.0\n",
       "Monday       39.0\n",
       "Tuesday      18.0\n",
       "Name: proportion, dtype: float64"
      ]
     },
     "execution_count": 6,
     "metadata": {},
     "output_type": "execute_result"
    }
   ],
   "execution_count": 6
  },
  {
   "cell_type": "markdown",
   "id": "c213e986",
   "metadata": {},
   "source": [
    "## Regular Expressions\n",
    "\n",
    "- \\d: digit character\n",
    "- \\w: word char\n",
    "- \\s: space cnhar\n",
    "- \\D: non-digit\n",
    "- \\S\n",
    "- \\W\n",
    "\n",
    "- Ranges:\n",
    "    [0-9]\n",
    "    [A-Za-z]\n",
    "\n",
    "- Flags/Modifiers\n",
    "    '+' one or more of the preceding char\n",
    "    '?' zero or one of preceding\n",
    "    '*' zero or more"
   ]
  },
  {
   "cell_type": "code",
   "id": "db4d59e4",
   "metadata": {
    "ExecuteTime": {
     "end_time": "2025-10-16T22:45:50.030435Z",
     "start_time": "2025-10-16T22:45:49.987614Z"
    }
   },
   "source": [
    "planes['Duration'].sample(frac=0.1)\n",
    "import re\n",
    "def extract_duration(duration):\n",
    "    if pd.isna(duration):\n",
    "        return None\n",
    "    hours_regex = r'(\\d+)h'\n",
    "    mins_regex = r'(\\d+)m'\n",
    "\n",
    "    hours = re.findall(hours_regex, duration)\n",
    "    mins = re.findall(mins_regex, duration)\n",
    "\n",
    "    if hours:\n",
    "        hours = int(hours[0])\n",
    "    else:\n",
    "        hours=0\n",
    "    if mins:\n",
    "        mins = round(int(mins[0])/60,2)\n",
    "    else:\n",
    "        mins=0\n",
    "    \n",
    "    return hours + mins\n",
    "list(map(extract_duration, planes['Duration']))\n",
    "planes['Duration'] = planes['Duration'].transform(extract_duration)"
   ],
   "outputs": [],
   "execution_count": 7
  },
  {
   "cell_type": "code",
   "id": "45a69f82",
   "metadata": {
    "ExecuteTime": {
     "end_time": "2025-10-16T22:45:50.262530Z",
     "start_time": "2025-10-16T22:45:50.257934Z"
    }
   },
   "source": [
    "planes['Duration'].corr(planes['Price'])"
   ],
   "outputs": [
    {
     "data": {
      "text/plain": [
       "np.float64(0.5245640645432746)"
      ]
     },
     "execution_count": 8,
     "metadata": {},
     "output_type": "execute_result"
    }
   ],
   "execution_count": 8
  },
  {
   "cell_type": "code",
   "id": "346451a1",
   "metadata": {
    "ExecuteTime": {
     "end_time": "2025-10-16T22:45:50.627225Z",
     "start_time": "2025-10-16T22:45:50.488892Z"
    }
   },
   "source": [
    "import seaborn as sns\n",
    "sns.histplot(planes['Duration'])"
   ],
   "outputs": [
    {
     "data": {
      "text/plain": [
       "<Axes: xlabel='Duration', ylabel='Count'>"
      ]
     },
     "execution_count": 9,
     "metadata": {},
     "output_type": "execute_result"
    },
    {
     "data": {
      "text/plain": [
       "<Figure size 640x480 with 1 Axes>"
      ],
      "image/png": "[encoded data removed]"
     },
     "metadata": {},
     "output_type": "display_data",
     "jetTransient": {
      "display_id": null
     }
    }
   ],
   "execution_count": 9
  },
  {
   "cell_type": "code",
   "id": "c9e7ce33",
   "metadata": {
    "ExecuteTime": {
     "end_time": "2025-10-16T22:45:50.699387Z",
     "start_time": "2025-10-16T22:45:50.690362Z"
    }
   },
   "source": [
    "import numpy as np\n",
    "duration_bins = [-np.inf, 4, 9, np.inf]\n",
    "duration_labels = ['Short', 'Mid', 'Long']\n",
    "planes['Haul'] = pd.cut(x=planes['Duration'], bins=duration_bins, labels=duration_labels)\n",
    "\n",
    "planes[['Duration', 'Haul']]"
   ],
   "outputs": [
    {
     "data": {
      "text/plain": [
       "       Duration   Haul\n",
       "0         19.00   Long\n",
       "1          5.42    Mid\n",
       "2          4.75    Mid\n",
       "3          2.42  Short\n",
       "4         15.50   Long\n",
       "...         ...    ...\n",
       "10655      2.50  Short\n",
       "10656      2.58  Short\n",
       "10657      3.00  Short\n",
       "10658      2.67  Short\n",
       "10659      8.33    Mid\n",
       "\n",
       "[10660 rows x 2 columns]"
      ],
      "text/html": [
       "<div>\n",
       "<style scoped>\n",
       "    .dataframe tbody tr th:only-of-type {\n",
       "        vertical-align: middle;\n",
       "    }\n",
       "\n",
       "    .dataframe tbody tr th {\n",
       "        vertical-align: top;\n",
       "    }\n",
       "\n",
       "    .dataframe thead th {\n",
       "        text-align: right;\n",
       "    }\n",
       "</style>\n",
       "<table border=\"1\" class=\"dataframe\">\n",
       "  <thead>\n",
       "    <tr style=\"text-align: right;\">\n",
       "      <th></th>\n",
       "      <th>Duration</th>\n",
       "      <th>Haul</th>\n",
       "    </tr>\n",
       "  </thead>\n",
       "  <tbody>\n",
       "    <tr>\n",
       "      <th>0</th>\n",
       "      <td>19.00</td>\n",
       "      <td>Long</td>\n",
       "    </tr>\n",
       "    <tr>\n",
       "      <th>1</th>\n",
       "      <td>5.42</td>\n",
       "      <td>Mid</td>\n",
       "    </tr>\n",
       "    <tr>\n",
       "      <th>2</th>\n",
       "      <td>4.75</td>\n",
       "      <td>Mid</td>\n",
       "    </tr>\n",
       "    <tr>\n",
       "      <th>3</th>\n",
       "      <td>2.42</td>\n",
       "      <td>Short</td>\n",
       "    </tr>\n",
       "    <tr>\n",
       "      <th>4</th>\n",
       "      <td>15.50</td>\n",
       "      <td>Long</td>\n",
       "    </tr>\n",
       "    <tr>\n",
       "      <th>...</th>\n",
       "      <td>...</td>\n",
       "      <td>...</td>\n",
       "    </tr>\n",
       "    <tr>\n",
       "      <th>10655</th>\n",
       "      <td>2.50</td>\n",
       "      <td>Short</td>\n",
       "    </tr>\n",
       "    <tr>\n",
       "      <th>10656</th>\n",
       "      <td>2.58</td>\n",
       "      <td>Short</td>\n",
       "    </tr>\n",
       "    <tr>\n",
       "      <th>10657</th>\n",
       "      <td>3.00</td>\n",
       "      <td>Short</td>\n",
       "    </tr>\n",
       "    <tr>\n",
       "      <th>10658</th>\n",
       "      <td>2.67</td>\n",
       "      <td>Short</td>\n",
       "    </tr>\n",
       "    <tr>\n",
       "      <th>10659</th>\n",
       "      <td>8.33</td>\n",
       "      <td>Mid</td>\n",
       "    </tr>\n",
       "  </tbody>\n",
       "</table>\n",
       "<p>10660 rows × 2 columns</p>\n",
       "</div>"
      ]
     },
     "execution_count": 10,
     "metadata": {},
     "output_type": "execute_result"
    }
   ],
   "execution_count": 10
  },
  {
   "cell_type": "code",
   "id": "3aa08b91",
   "metadata": {
    "ExecuteTime": {
     "end_time": "2025-10-16T22:45:50.893323Z",
     "start_time": "2025-10-16T22:45:50.887773Z"
    }
   },
   "source": [
    "planes.groupby(['Haul'])['Price'].mean()"
   ],
   "outputs": [
    {
     "name": "stderr",
     "output_type": "stream",
     "text": [
      "C:\\Users\\zak\\AppData\\Local\\Temp\\ipykernel_4488\\2181333341.py:1: FutureWarning: The default of observed=False is deprecated and will be changed to True in a future version of pandas. Pass observed=False to retain current behavior or observed=True to adopt the future default and silence this warning.\n",
      "  planes.groupby(['Haul'])['Price'].mean()\n"
     ]
    },
    {
     "data": {
      "text/plain": [
       "Haul\n",
       "Short     5028.750994\n",
       "Mid      10027.034934\n",
       "Long     11426.398146\n",
       "Name: Price, dtype: float64"
      ]
     },
     "execution_count": 11,
     "metadata": {},
     "output_type": "execute_result"
    }
   ],
   "execution_count": 11
  },
  {
   "cell_type": "markdown",
   "id": "856d24bc",
   "metadata": {},
   "source": [
    "## Create a cut of the price column \n",
    "## Group the dataset by the airlines and see if the interesting price differences\n",
    "## Convert the total stops column to numerical"
   ]
  },
  {
   "cell_type": "code",
   "id": "c6bc0890",
   "metadata": {
    "ExecuteTime": {
     "end_time": "2025-10-16T22:45:51.342937Z",
     "start_time": "2025-10-16T22:45:51.208181Z"
    }
   },
   "source": [
    "sns.histplot(planes['Price'])"
   ],
   "outputs": [
    {
     "data": {
      "text/plain": [
       "<Axes: xlabel='Price', ylabel='Count'>"
      ]
     },
     "execution_count": 12,
     "metadata": {},
     "output_type": "execute_result"
    },
    {
     "data": {
      "text/plain": [
       "<Figure size 640x480 with 1 Axes>"
      ],
      "image/png": "[encoded data removed]"
     },
     "metadata": {},
     "output_type": "display_data",
     "jetTransient": {
      "display_id": null
     }
    }
   ],
   "execution_count": 12
  },
  {
   "cell_type": "code",
   "id": "0f4c54ff",
   "metadata": {
    "ExecuteTime": {
     "end_time": "2025-10-16T22:45:51.512514Z",
     "start_time": "2025-10-16T22:45:51.444341Z"
    }
   },
   "source": [
    "sns.boxplot(x=planes['Price'])"
   ],
   "outputs": [
    {
     "data": {
      "text/plain": [
       "<Axes: xlabel='Price'>"
      ]
     },
     "execution_count": 13,
     "metadata": {},
     "output_type": "execute_result"
    },
    {
     "data": {
      "text/plain": [
       "<Figure size 640x480 with 1 Axes>"
      ],
      "image/png": "[encoded data removed]"
     },
     "metadata": {},
     "output_type": "display_data",
     "jetTransient": {
      "display_id": null
     }
    }
   ],
   "execution_count": 13
  },
  {
   "cell_type": "markdown",
   "id": "761fdb01",
   "metadata": {},
   "source": [
    "## Z-Scores\n",
    "\n",
    "- x - mu / sigma"
   ]
  },
  {
   "cell_type": "code",
   "id": "7494bab0",
   "metadata": {
    "ExecuteTime": {
     "end_time": "2025-10-16T22:45:53.386400Z",
     "start_time": "2025-10-16T22:45:51.913048Z"
    }
   },
   "source": [
    "def z_scoring(x, mu, sigma):\n",
    "    return (x -mu) / sigma\n",
    "planes['Price_Z'] = [z_scoring(x=x, mu=planes['Price'].mean(), sigma=planes['Price'].std()) \n",
    "for x in planes['Price']]\n",
    "\n",
    "sns.histplot(planes['Price_Z'])\n"
   ],
   "outputs": [
    {
     "data": {
      "text/plain": [
       "<Axes: xlabel='Price_Z', ylabel='Count'>"
      ]
     },
     "execution_count": 14,
     "metadata": {},
     "output_type": "execute_result"
    },
    {
     "data": {
      "text/plain": [
       "<Figure size 640x480 with 1 Axes>"
      ],
      "image/png": "[encoded data removed]"
     },
     "metadata": {},
     "output_type": "display_data",
     "jetTransient": {
      "display_id": null
     }
    }
   ],
   "execution_count": 14
  },
  {
   "cell_type": "code",
   "id": "7dffcc23",
   "metadata": {
    "ExecuteTime": {
     "end_time": "2025-10-16T22:45:53.410503Z",
     "start_time": "2025-10-16T22:45:53.405115Z"
    }
   },
   "source": [
    "price_bins = [-np.inf, -1, 1.5, 2.5, np.inf]\n",
    "price_labels = ['Cheap', 'Average', 'Expensive', 'Very Expensive']\n",
    "planes['Price Band'] = pd.cut(x=planes['Price_Z'], bins= price_bins, labels = price_labels)\n",
    "\n",
    "round(planes['Price Band'].value_counts(normalize=True),2)*100"
   ],
   "outputs": [
    {
     "data": {
      "text/plain": [
       "Price Band\n",
       "Average           79.0\n",
       "Cheap             16.0\n",
       "Expensive          4.0\n",
       "Very Expensive     1.0\n",
       "Name: proportion, dtype: float64"
      ]
     },
     "execution_count": 15,
     "metadata": {},
     "output_type": "execute_result"
    }
   ],
   "execution_count": 15
  },
  {
   "cell_type": "code",
   "id": "5ca8be38",
   "metadata": {
    "ExecuteTime": {
     "end_time": "2025-10-16T22:45:53.517854Z",
     "start_time": "2025-10-16T22:45:53.499236Z"
    }
   },
   "source": [
    "pd.crosstab(index=planes['Airline'], columns=planes['Price Band'])"
   ],
   "outputs": [
    {
     "data": {
      "text/plain": [
       "Price Band         Cheap  Average  Expensive  Very Expensive\n",
       "Airline                                                     \n",
       "Air Asia             136      159          0               0\n",
       "Air India            126     1419         36              21\n",
       "GoAir                 63      110          2               1\n",
       "IndiGo               567     1294          4               0\n",
       "Jet Airways          142     3029        230              86\n",
       "Multiple carriers      0      993         67              13\n",
       "SpiceJet             548      202          0               1\n",
       "Vistara               18      410          3               2"
      ],
      "text/html": [
       "<div>\n",
       "<style scoped>\n",
       "    .dataframe tbody tr th:only-of-type {\n",
       "        vertical-align: middle;\n",
       "    }\n",
       "\n",
       "    .dataframe tbody tr th {\n",
       "        vertical-align: top;\n",
       "    }\n",
       "\n",
       "    .dataframe thead th {\n",
       "        text-align: right;\n",
       "    }\n",
       "</style>\n",
       "<table border=\"1\" class=\"dataframe\">\n",
       "  <thead>\n",
       "    <tr style=\"text-align: right;\">\n",
       "      <th>Price Band</th>\n",
       "      <th>Cheap</th>\n",
       "      <th>Average</th>\n",
       "      <th>Expensive</th>\n",
       "      <th>Very Expensive</th>\n",
       "    </tr>\n",
       "    <tr>\n",
       "      <th>Airline</th>\n",
       "      <th></th>\n",
       "      <th></th>\n",
       "      <th></th>\n",
       "      <th></th>\n",
       "    </tr>\n",
       "  </thead>\n",
       "  <tbody>\n",
       "    <tr>\n",
       "      <th>Air Asia</th>\n",
       "      <td>136</td>\n",
       "      <td>159</td>\n",
       "      <td>0</td>\n",
       "      <td>0</td>\n",
       "    </tr>\n",
       "    <tr>\n",
       "      <th>Air India</th>\n",
       "      <td>126</td>\n",
       "      <td>1419</td>\n",
       "      <td>36</td>\n",
       "      <td>21</td>\n",
       "    </tr>\n",
       "    <tr>\n",
       "      <th>GoAir</th>\n",
       "      <td>63</td>\n",
       "      <td>110</td>\n",
       "      <td>2</td>\n",
       "      <td>1</td>\n",
       "    </tr>\n",
       "    <tr>\n",
       "      <th>IndiGo</th>\n",
       "      <td>567</td>\n",
       "      <td>1294</td>\n",
       "      <td>4</td>\n",
       "      <td>0</td>\n",
       "    </tr>\n",
       "    <tr>\n",
       "      <th>Jet Airways</th>\n",
       "      <td>142</td>\n",
       "      <td>3029</td>\n",
       "      <td>230</td>\n",
       "      <td>86</td>\n",
       "    </tr>\n",
       "    <tr>\n",
       "      <th>Multiple carriers</th>\n",
       "      <td>0</td>\n",
       "      <td>993</td>\n",
       "      <td>67</td>\n",
       "      <td>13</td>\n",
       "    </tr>\n",
       "    <tr>\n",
       "      <th>SpiceJet</th>\n",
       "      <td>548</td>\n",
       "      <td>202</td>\n",
       "      <td>0</td>\n",
       "      <td>1</td>\n",
       "    </tr>\n",
       "    <tr>\n",
       "      <th>Vistara</th>\n",
       "      <td>18</td>\n",
       "      <td>410</td>\n",
       "      <td>3</td>\n",
       "      <td>2</td>\n",
       "    </tr>\n",
       "  </tbody>\n",
       "</table>\n",
       "</div>"
      ]
     },
     "execution_count": 16,
     "metadata": {},
     "output_type": "execute_result"
    }
   ],
   "execution_count": 16
  },
  {
   "cell_type": "code",
   "id": "ed4a2873",
   "metadata": {
    "ExecuteTime": {
     "end_time": "2025-10-16T22:45:53.779502Z",
     "start_time": "2025-10-16T22:45:53.631086Z"
    }
   },
   "source": [
    "sns.countplot(data=planes, y='Airline', hue='Price Band')"
   ],
   "outputs": [
    {
     "data": {
      "text/plain": [
       "<Axes: xlabel='count', ylabel='Airline'>"
      ]
     },
     "execution_count": 17,
     "metadata": {},
     "output_type": "execute_result"
    },
    {
     "data": {
      "text/plain": [
       "<Figure size 640x480 with 1 Axes>"
      ],
      "image/png": "[encoded data removed]"
     },
     "metadata": {},
     "output_type": "display_data",
     "jetTransient": {
      "display_id": null
     }
    }
   ],
   "execution_count": 17
  },
  {
   "cell_type": "code",
   "id": "9ab6164e",
   "metadata": {
    "ExecuteTime": {
     "end_time": "2025-10-16T22:45:53.813182Z",
     "start_time": "2025-10-16T22:45:53.807382Z"
    }
   },
   "source": [
    "## Correlation\n",
    "planes.drop('Price_Z', axis=1).select_dtypes(include='number').corr()"
   ],
   "outputs": [
    {
     "data": {
      "text/plain": [
       "          Duration     Price\n",
       "Duration  1.000000  0.524564\n",
       "Price     0.524564  1.000000"
      ],
      "text/html": [
       "<div>\n",
       "<style scoped>\n",
       "    .dataframe tbody tr th:only-of-type {\n",
       "        vertical-align: middle;\n",
       "    }\n",
       "\n",
       "    .dataframe tbody tr th {\n",
       "        vertical-align: top;\n",
       "    }\n",
       "\n",
       "    .dataframe thead th {\n",
       "        text-align: right;\n",
       "    }\n",
       "</style>\n",
       "<table border=\"1\" class=\"dataframe\">\n",
       "  <thead>\n",
       "    <tr style=\"text-align: right;\">\n",
       "      <th></th>\n",
       "      <th>Duration</th>\n",
       "      <th>Price</th>\n",
       "    </tr>\n",
       "  </thead>\n",
       "  <tbody>\n",
       "    <tr>\n",
       "      <th>Duration</th>\n",
       "      <td>1.000000</td>\n",
       "      <td>0.524564</td>\n",
       "    </tr>\n",
       "    <tr>\n",
       "      <th>Price</th>\n",
       "      <td>0.524564</td>\n",
       "      <td>1.000000</td>\n",
       "    </tr>\n",
       "  </tbody>\n",
       "</table>\n",
       "</div>"
      ]
     },
     "execution_count": 18,
     "metadata": {},
     "output_type": "execute_result"
    }
   ],
   "execution_count": 18
  },
  {
   "cell_type": "code",
   "id": "624d58cb",
   "metadata": {
    "ExecuteTime": {
     "end_time": "2025-10-16T22:45:53.884357Z",
     "start_time": "2025-10-16T22:45:53.875247Z"
    }
   },
   "source": [
    "planes.loc[(planes['Airline']=='GoAir')&(planes['Price'].isnull())]"
   ],
   "outputs": [
    {
     "data": {
      "text/plain": [
       "     Airline Date_of_Journey    Source Destination            Route Dep_Time  \\\n",
       "1382   GoAir      2019-04-03     Delhi      Cochin  DEL → AMD → COK    07:25   \n",
       "4349   GoAir      2019-05-01  Banglore         NaN        BLR → DEL    07:45   \n",
       "5903   GoAir      2019-05-09   Kolkata    Banglore  CCU → BOM → BLR    23:30   \n",
       "6573   GoAir      2019-04-15     Delhi      Cochin  DEL → BOM → COK    07:00   \n",
       "7365   GoAir      2019-05-06   Kolkata    Banglore  CCU → BOM → BLR    23:30   \n",
       "9779   GoAir      2019-06-27     Delhi      Cochin              NaN    14:25   \n",
       "\n",
       "      Arrival_Time  Duration Total_Stops Additional_Info  Price Day of Week  \\\n",
       "1382         13:35      6.17      1 stop         No info    NaN   Wednesday   \n",
       "4349         10:40      2.92    non-stop         No info    NaN   Wednesday   \n",
       "5903  07:45 10 May      8.25      1 stop         No info    NaN    Thursday   \n",
       "6573         12:55      5.92         NaN         No info    NaN      Monday   \n",
       "7365  07:45 07 May      8.25      1 stop         No info    NaN      Monday   \n",
       "9779           NaN      5.17      1 stop         No info    NaN    Thursday   \n",
       "\n",
       "      Weekend   Haul  Price_Z Price Band  \n",
       "1382    False    Mid      NaN        NaN  \n",
       "4349    False  Short      NaN        NaN  \n",
       "5903    False    Mid      NaN        NaN  \n",
       "6573    False    Mid      NaN        NaN  \n",
       "7365    False    Mid      NaN        NaN  \n",
       "9779    False    Mid      NaN        NaN  "
      ],
      "text/html": [
       "<div>\n",
       "<style scoped>\n",
       "    .dataframe tbody tr th:only-of-type {\n",
       "        vertical-align: middle;\n",
       "    }\n",
       "\n",
       "    .dataframe tbody tr th {\n",
       "        vertical-align: top;\n",
       "    }\n",
       "\n",
       "    .dataframe thead th {\n",
       "        text-align: right;\n",
       "    }\n",
       "</style>\n",
       "<table border=\"1\" class=\"dataframe\">\n",
       "  <thead>\n",
       "    <tr style=\"text-align: right;\">\n",
       "      <th></th>\n",
       "      <th>Airline</th>\n",
       "      <th>Date_of_Journey</th>\n",
       "      <th>Source</th>\n",
       "      <th>Destination</th>\n",
       "      <th>Route</th>\n",
       "      <th>Dep_Time</th>\n",
       "      <th>Arrival_Time</th>\n",
       "      <th>Duration</th>\n",
       "      <th>Total_Stops</th>\n",
       "      <th>Additional_Info</th>\n",
       "      <th>Price</th>\n",
       "      <th>Day of Week</th>\n",
       "      <th>Weekend</th>\n",
       "      <th>Haul</th>\n",
       "      <th>Price_Z</th>\n",
       "      <th>Price Band</th>\n",
       "    </tr>\n",
       "  </thead>\n",
       "  <tbody>\n",
       "    <tr>\n",
       "      <th>1382</th>\n",
       "      <td>GoAir</td>\n",
       "      <td>2019-04-03</td>\n",
       "      <td>Delhi</td>\n",
       "      <td>Cochin</td>\n",
       "      <td>DEL → AMD → COK</td>\n",
       "      <td>07:25</td>\n",
       "      <td>13:35</td>\n",
       "      <td>6.17</td>\n",
       "      <td>1 stop</td>\n",
       "      <td>No info</td>\n",
       "      <td>NaN</td>\n",
       "      <td>Wednesday</td>\n",
       "      <td>False</td>\n",
       "      <td>Mid</td>\n",
       "      <td>NaN</td>\n",
       "      <td>NaN</td>\n",
       "    </tr>\n",
       "    <tr>\n",
       "      <th>4349</th>\n",
       "      <td>GoAir</td>\n",
       "      <td>2019-05-01</td>\n",
       "      <td>Banglore</td>\n",
       "      <td>NaN</td>\n",
       "      <td>BLR → DEL</td>\n",
       "      <td>07:45</td>\n",
       "      <td>10:40</td>\n",
       "      <td>2.92</td>\n",
       "      <td>non-stop</td>\n",
       "      <td>No info</td>\n",
       "      <td>NaN</td>\n",
       "      <td>Wednesday</td>\n",
       "      <td>False</td>\n",
       "      <td>Short</td>\n",
       "      <td>NaN</td>\n",
       "      <td>NaN</td>\n",
       "    </tr>\n",
       "    <tr>\n",
       "      <th>5903</th>\n",
       "      <td>GoAir</td>\n",
       "      <td>2019-05-09</td>\n",
       "      <td>Kolkata</td>\n",
       "      <td>Banglore</td>\n",
       "      <td>CCU → BOM → BLR</td>\n",
       "      <td>23:30</td>\n",
       "      <td>07:45 10 May</td>\n",
       "      <td>8.25</td>\n",
       "      <td>1 stop</td>\n",
       "      <td>No info</td>\n",
       "      <td>NaN</td>\n",
       "      <td>Thursday</td>\n",
       "      <td>False</td>\n",
       "      <td>Mid</td>\n",
       "      <td>NaN</td>\n",
       "      <td>NaN</td>\n",
       "    </tr>\n",
       "    <tr>\n",
       "      <th>6573</th>\n",
       "      <td>GoAir</td>\n",
       "      <td>2019-04-15</td>\n",
       "      <td>Delhi</td>\n",
       "      <td>Cochin</td>\n",
       "      <td>DEL → BOM → COK</td>\n",
       "      <td>07:00</td>\n",
       "      <td>12:55</td>\n",
       "      <td>5.92</td>\n",
       "      <td>NaN</td>\n",
       "      <td>No info</td>\n",
       "      <td>NaN</td>\n",
       "      <td>Monday</td>\n",
       "      <td>False</td>\n",
       "      <td>Mid</td>\n",
       "      <td>NaN</td>\n",
       "      <td>NaN</td>\n",
       "    </tr>\n",
       "    <tr>\n",
       "      <th>7365</th>\n",
       "      <td>GoAir</td>\n",
       "      <td>2019-05-06</td>\n",
       "      <td>Kolkata</td>\n",
       "      <td>Banglore</td>\n",
       "      <td>CCU → BOM → BLR</td>\n",
       "      <td>23:30</td>\n",
       "      <td>07:45 07 May</td>\n",
       "      <td>8.25</td>\n",
       "      <td>1 stop</td>\n",
       "      <td>No info</td>\n",
       "      <td>NaN</td>\n",
       "      <td>Monday</td>\n",
       "      <td>False</td>\n",
       "      <td>Mid</td>\n",
       "      <td>NaN</td>\n",
       "      <td>NaN</td>\n",
       "    </tr>\n",
       "    <tr>\n",
       "      <th>9779</th>\n",
       "      <td>GoAir</td>\n",
       "      <td>2019-06-27</td>\n",
       "      <td>Delhi</td>\n",
       "      <td>Cochin</td>\n",
       "      <td>NaN</td>\n",
       "      <td>14:25</td>\n",
       "      <td>NaN</td>\n",
       "      <td>5.17</td>\n",
       "      <td>1 stop</td>\n",
       "      <td>No info</td>\n",
       "      <td>NaN</td>\n",
       "      <td>Thursday</td>\n",
       "      <td>False</td>\n",
       "      <td>Mid</td>\n",
       "      <td>NaN</td>\n",
       "      <td>NaN</td>\n",
       "    </tr>\n",
       "  </tbody>\n",
       "</table>\n",
       "</div>"
      ]
     },
     "execution_count": 19,
     "metadata": {},
     "output_type": "execute_result"
    }
   ],
   "execution_count": 19
  },
  {
   "cell_type": "code",
   "id": "c25de72d",
   "metadata": {
    "ExecuteTime": {
     "end_time": "2025-10-16T22:45:54.038410Z",
     "start_time": "2025-10-16T22:45:54.023722Z"
    }
   },
   "source": [
    "def range_(column):\n",
    "    column = sorted(column[column.notnull()].to_numpy())\n",
    "    return column[-1] - column[0]\n",
    "planes.groupby(['Airline'])['Price'].agg(['mean', 'std', 'median',range_])"
   ],
   "outputs": [
    {
     "data": {
      "text/plain": [
       "                           mean          std   median   range_\n",
       "Airline                                                       \n",
       "Air Asia            5629.657627  2016.738954   5192.0  10091.0\n",
       "Air India           9593.015605  3865.871975   9443.0  29895.0\n",
       "GoAir               5914.477273  2790.815129   5135.0  19396.0\n",
       "IndiGo              5684.994638  2266.753552   5013.0  17458.0\n",
       "Jet Airways        11605.228850  4230.748840  11467.0  52986.0\n",
       "Multiple carriers  10867.189189  3763.674706   9871.0  31186.0\n",
       "SpiceJet            4290.035952  1790.851944   3873.0  21508.0\n",
       "Vistara             7831.260970  2864.267802   8028.0  18043.0"
      ],
      "text/html": [
       "<div>\n",
       "<style scoped>\n",
       "    .dataframe tbody tr th:only-of-type {\n",
       "        vertical-align: middle;\n",
       "    }\n",
       "\n",
       "    .dataframe tbody tr th {\n",
       "        vertical-align: top;\n",
       "    }\n",
       "\n",
       "    .dataframe thead th {\n",
       "        text-align: right;\n",
       "    }\n",
       "</style>\n",
       "<table border=\"1\" class=\"dataframe\">\n",
       "  <thead>\n",
       "    <tr style=\"text-align: right;\">\n",
       "      <th></th>\n",
       "      <th>mean</th>\n",
       "      <th>std</th>\n",
       "      <th>median</th>\n",
       "      <th>range_</th>\n",
       "    </tr>\n",
       "    <tr>\n",
       "      <th>Airline</th>\n",
       "      <th></th>\n",
       "      <th></th>\n",
       "      <th></th>\n",
       "      <th></th>\n",
       "    </tr>\n",
       "  </thead>\n",
       "  <tbody>\n",
       "    <tr>\n",
       "      <th>Air Asia</th>\n",
       "      <td>5629.657627</td>\n",
       "      <td>2016.738954</td>\n",
       "      <td>5192.0</td>\n",
       "      <td>10091.0</td>\n",
       "    </tr>\n",
       "    <tr>\n",
       "      <th>Air India</th>\n",
       "      <td>9593.015605</td>\n",
       "      <td>3865.871975</td>\n",
       "      <td>9443.0</td>\n",
       "      <td>29895.0</td>\n",
       "    </tr>\n",
       "    <tr>\n",
       "      <th>GoAir</th>\n",
       "      <td>5914.477273</td>\n",
       "      <td>2790.815129</td>\n",
       "      <td>5135.0</td>\n",
       "      <td>19396.0</td>\n",
       "    </tr>\n",
       "    <tr>\n",
       "      <th>IndiGo</th>\n",
       "      <td>5684.994638</td>\n",
       "      <td>2266.753552</td>\n",
       "      <td>5013.0</td>\n",
       "      <td>17458.0</td>\n",
       "    </tr>\n",
       "    <tr>\n",
       "      <th>Jet Airways</th>\n",
       "      <td>11605.228850</td>\n",
       "      <td>4230.748840</td>\n",
       "      <td>11467.0</td>\n",
       "      <td>52986.0</td>\n",
       "    </tr>\n",
       "    <tr>\n",
       "      <th>Multiple carriers</th>\n",
       "      <td>10867.189189</td>\n",
       "      <td>3763.674706</td>\n",
       "      <td>9871.0</td>\n",
       "      <td>31186.0</td>\n",
       "    </tr>\n",
       "    <tr>\n",
       "      <th>SpiceJet</th>\n",
       "      <td>4290.035952</td>\n",
       "      <td>1790.851944</td>\n",
       "      <td>3873.0</td>\n",
       "      <td>21508.0</td>\n",
       "    </tr>\n",
       "    <tr>\n",
       "      <th>Vistara</th>\n",
       "      <td>7831.260970</td>\n",
       "      <td>2864.267802</td>\n",
       "      <td>8028.0</td>\n",
       "      <td>18043.0</td>\n",
       "    </tr>\n",
       "  </tbody>\n",
       "</table>\n",
       "</div>"
      ]
     },
     "execution_count": 20,
     "metadata": {},
     "output_type": "execute_result"
    }
   ],
   "execution_count": 20
  },
  {
   "attachments": {
    "Normal dist.png": {
     "image/png": "[encoded data removed]"
    }
   },
   "cell_type": "markdown",
   "id": "40c5af5d",
   "metadata": {},
   "source": [
    "![Normal dist.png](<attachment:Normal dist.png>)"
   ]
  },
  {
   "cell_type": "markdown",
   "id": "8a23da07",
   "metadata": {},
   "source": [
    "## Deep Dive into LOC and ILOC"
   ]
  },
  {
   "cell_type": "code",
   "id": "2af95ec5",
   "metadata": {
    "ExecuteTime": {
     "end_time": "2025-10-16T22:45:54.150692Z",
     "start_time": "2025-10-16T22:45:54.139703Z"
    }
   },
   "source": [
    "planes[(planes['Airline'] == 'Jet Airways') & (planes['Price'] > 10000)]"
   ],
   "outputs": [
    {
     "data": {
      "text/plain": [
       "           Airline Date_of_Journey    Source Destination  \\\n",
       "0      Jet Airways      2019-06-09     Delhi      Cochin   \n",
       "4      Jet Airways      2019-03-12  Banglore   New Delhi   \n",
       "5      Jet Airways      2019-03-01  Banglore   New Delhi   \n",
       "6      Jet Airways      2019-03-12  Banglore   New Delhi   \n",
       "15     Jet Airways      2019-06-12     Delhi      Cochin   \n",
       "...            ...             ...       ...         ...   \n",
       "10644  Jet Airways      2019-03-12  Banglore   New Delhi   \n",
       "10645  Jet Airways      2019-05-09     Delhi      Cochin   \n",
       "10649  Jet Airways      2019-06-27     Delhi      Cochin   \n",
       "10650  Jet Airways      2019-05-27     Delhi      Cochin   \n",
       "10651  Jet Airways      2019-03-12  Banglore   New Delhi   \n",
       "\n",
       "                       Route Dep_Time  Arrival_Time  Duration Total_Stops  \\\n",
       "0      DEL → LKO → BOM → COK    09:25  04:25 10 Jun     19.00     2 stops   \n",
       "4            BLR → BOM → DEL    18:55  10:25 13 Mar     15.50      1 stop   \n",
       "5            BLR → BOM → DEL    08:00  05:05 02 Mar     21.08      1 stop   \n",
       "6            BLR → BOM → DEL    08:55  10:25 13 Mar     25.50      1 stop   \n",
       "15           DEL → BOM → COK    14:00  12:35 13 Jun     22.58      1 stop   \n",
       "...                      ...      ...           ...       ...         ...   \n",
       "10644        BLR → BOM → DEL    22:55  20:20 13 Mar     21.42      1 stop   \n",
       "10645  DEL → JDH → BOM → COK    11:40         19:00      7.33     2 stops   \n",
       "10649  DEL → AMD → BOM → COK    23:05  19:00 28 Jun     19.92     2 stops   \n",
       "10650  DEL → AMD → BOM → COK    13:25  04:25 28 May     15.00     2 stops   \n",
       "10651        BLR → BOM → DEL    20:35  21:20 13 Mar     24.75      1 stop   \n",
       "\n",
       "                   Additional_Info    Price Day of Week  Weekend  Haul  \\\n",
       "0                          No info  13882.0      Sunday     True  Long   \n",
       "4      In-flight meal not included  11087.0     Tuesday    False  Long   \n",
       "5                          No info  22270.0      Friday    False  Long   \n",
       "6      In-flight meal not included  11087.0     Tuesday    False  Long   \n",
       "15     In-flight meal not included  10262.0   Wednesday    False  Long   \n",
       "...                            ...      ...         ...      ...   ...   \n",
       "10644  In-flight meal not included  11087.0     Tuesday    False  Long   \n",
       "10645                      No info  21219.0    Thursday    False   Mid   \n",
       "10649  In-flight meal not included  11150.0    Thursday    False  Long   \n",
       "10650                      No info  16704.0      Monday    False  Long   \n",
       "10651  In-flight meal not included  11087.0     Tuesday    False  Long   \n",
       "\n",
       "        Price_Z      Price Band  \n",
       "0      1.081677         Average  \n",
       "4      0.456719         Average  \n",
       "5      2.957220  Very Expensive  \n",
       "6      0.456719         Average  \n",
       "15     0.272251         Average  \n",
       "...         ...             ...  \n",
       "10644  0.456719         Average  \n",
       "10645  2.722218  Very Expensive  \n",
       "10649  0.470806         Average  \n",
       "10650  1.712671       Expensive  \n",
       "10651  0.456719         Average  \n",
       "\n",
       "[2433 rows x 16 columns]"
      ],
      "text/html": [
       "<div>\n",
       "<style scoped>\n",
       "    .dataframe tbody tr th:only-of-type {\n",
       "        vertical-align: middle;\n",
       "    }\n",
       "\n",
       "    .dataframe tbody tr th {\n",
       "        vertical-align: top;\n",
       "    }\n",
       "\n",
       "    .dataframe thead th {\n",
       "        text-align: right;\n",
       "    }\n",
       "</style>\n",
       "<table border=\"1\" class=\"dataframe\">\n",
       "  <thead>\n",
       "    <tr style=\"text-align: right;\">\n",
       "      <th></th>\n",
       "      <th>Airline</th>\n",
       "      <th>Date_of_Journey</th>\n",
       "      <th>Source</th>\n",
       "      <th>Destination</th>\n",
       "      <th>Route</th>\n",
       "      <th>Dep_Time</th>\n",
       "      <th>Arrival_Time</th>\n",
       "      <th>Duration</th>\n",
       "      <th>Total_Stops</th>\n",
       "      <th>Additional_Info</th>\n",
       "      <th>Price</th>\n",
       "      <th>Day of Week</th>\n",
       "      <th>Weekend</th>\n",
       "      <th>Haul</th>\n",
       "      <th>Price_Z</th>\n",
       "      <th>Price Band</th>\n",
       "    </tr>\n",
       "  </thead>\n",
       "  <tbody>\n",
       "    <tr>\n",
       "      <th>0</th>\n",
       "      <td>Jet Airways</td>\n",
       "      <td>2019-06-09</td>\n",
       "      <td>Delhi</td>\n",
       "      <td>Cochin</td>\n",
       "      <td>DEL → LKO → BOM → COK</td>\n",
       "      <td>09:25</td>\n",
       "      <td>04:25 10 Jun</td>\n",
       "      <td>19.00</td>\n",
       "      <td>2 stops</td>\n",
       "      <td>No info</td>\n",
       "      <td>13882.0</td>\n",
       "      <td>Sunday</td>\n",
       "      <td>True</td>\n",
       "      <td>Long</td>\n",
       "      <td>1.081677</td>\n",
       "      <td>Average</td>\n",
       "    </tr>\n",
       "    <tr>\n",
       "      <th>4</th>\n",
       "      <td>Jet Airways</td>\n",
       "      <td>2019-03-12</td>\n",
       "      <td>Banglore</td>\n",
       "      <td>New Delhi</td>\n",
       "      <td>BLR → BOM → DEL</td>\n",
       "      <td>18:55</td>\n",
       "      <td>10:25 13 Mar</td>\n",
       "      <td>15.50</td>\n",
       "      <td>1 stop</td>\n",
       "      <td>In-flight meal not included</td>\n",
       "      <td>11087.0</td>\n",
       "      <td>Tuesday</td>\n",
       "      <td>False</td>\n",
       "      <td>Long</td>\n",
       "      <td>0.456719</td>\n",
       "      <td>Average</td>\n",
       "    </tr>\n",
       "    <tr>\n",
       "      <th>5</th>\n",
       "      <td>Jet Airways</td>\n",
       "      <td>2019-03-01</td>\n",
       "      <td>Banglore</td>\n",
       "      <td>New Delhi</td>\n",
       "      <td>BLR → BOM → DEL</td>\n",
       "      <td>08:00</td>\n",
       "      <td>05:05 02 Mar</td>\n",
       "      <td>21.08</td>\n",
       "      <td>1 stop</td>\n",
       "      <td>No info</td>\n",
       "      <td>22270.0</td>\n",
       "      <td>Friday</td>\n",
       "      <td>False</td>\n",
       "      <td>Long</td>\n",
       "      <td>2.957220</td>\n",
       "      <td>Very Expensive</td>\n",
       "    </tr>\n",
       "    <tr>\n",
       "      <th>6</th>\n",
       "      <td>Jet Airways</td>\n",
       "      <td>2019-03-12</td>\n",
       "      <td>Banglore</td>\n",
       "      <td>New Delhi</td>\n",
       "      <td>BLR → BOM → DEL</td>\n",
       "      <td>08:55</td>\n",
       "      <td>10:25 13 Mar</td>\n",
       "      <td>25.50</td>\n",
       "      <td>1 stop</td>\n",
       "      <td>In-flight meal not included</td>\n",
       "      <td>11087.0</td>\n",
       "      <td>Tuesday</td>\n",
       "      <td>False</td>\n",
       "      <td>Long</td>\n",
       "      <td>0.456719</td>\n",
       "      <td>Average</td>\n",
       "    </tr>\n",
       "    <tr>\n",
       "      <th>15</th>\n",
       "      <td>Jet Airways</td>\n",
       "      <td>2019-06-12</td>\n",
       "      <td>Delhi</td>\n",
       "      <td>Cochin</td>\n",
       "      <td>DEL → BOM → COK</td>\n",
       "      <td>14:00</td>\n",
       "      <td>12:35 13 Jun</td>\n",
       "      <td>22.58</td>\n",
       "      <td>1 stop</td>\n",
       "      <td>In-flight meal not included</td>\n",
       "      <td>10262.0</td>\n",
       "      <td>Wednesday</td>\n",
       "      <td>False</td>\n",
       "      <td>Long</td>\n",
       "      <td>0.272251</td>\n",
       "      <td>Average</td>\n",
       "    </tr>\n",
       "    <tr>\n",
       "      <th>...</th>\n",
       "      <td>...</td>\n",
       "      <td>...</td>\n",
       "      <td>...</td>\n",
       "      <td>...</td>\n",
       "      <td>...</td>\n",
       "      <td>...</td>\n",
       "      <td>...</td>\n",
       "      <td>...</td>\n",
       "      <td>...</td>\n",
       "      <td>...</td>\n",
       "      <td>...</td>\n",
       "      <td>...</td>\n",
       "      <td>...</td>\n",
       "      <td>...</td>\n",
       "      <td>...</td>\n",
       "      <td>...</td>\n",
       "    </tr>\n",
       "    <tr>\n",
       "      <th>10644</th>\n",
       "      <td>Jet Airways</td>\n",
       "      <td>2019-03-12</td>\n",
       "      <td>Banglore</td>\n",
       "      <td>New Delhi</td>\n",
       "      <td>BLR → BOM → DEL</td>\n",
       "      <td>22:55</td>\n",
       "      <td>20:20 13 Mar</td>\n",
       "      <td>21.42</td>\n",
       "      <td>1 stop</td>\n",
       "      <td>In-flight meal not included</td>\n",
       "      <td>11087.0</td>\n",
       "      <td>Tuesday</td>\n",
       "      <td>False</td>\n",
       "      <td>Long</td>\n",
       "      <td>0.456719</td>\n",
       "      <td>Average</td>\n",
       "    </tr>\n",
       "    <tr>\n",
       "      <th>10645</th>\n",
       "      <td>Jet Airways</td>\n",
       "      <td>2019-05-09</td>\n",
       "      <td>Delhi</td>\n",
       "      <td>Cochin</td>\n",
       "      <td>DEL → JDH → BOM → COK</td>\n",
       "      <td>11:40</td>\n",
       "      <td>19:00</td>\n",
       "      <td>7.33</td>\n",
       "      <td>2 stops</td>\n",
       "      <td>No info</td>\n",
       "      <td>21219.0</td>\n",
       "      <td>Thursday</td>\n",
       "      <td>False</td>\n",
       "      <td>Mid</td>\n",
       "      <td>2.722218</td>\n",
       "      <td>Very Expensive</td>\n",
       "    </tr>\n",
       "    <tr>\n",
       "      <th>10649</th>\n",
       "      <td>Jet Airways</td>\n",
       "      <td>2019-06-27</td>\n",
       "      <td>Delhi</td>\n",
       "      <td>Cochin</td>\n",
       "      <td>DEL → AMD → BOM → COK</td>\n",
       "      <td>23:05</td>\n",
       "      <td>19:00 28 Jun</td>\n",
       "      <td>19.92</td>\n",
       "      <td>2 stops</td>\n",
       "      <td>In-flight meal not included</td>\n",
       "      <td>11150.0</td>\n",
       "      <td>Thursday</td>\n",
       "      <td>False</td>\n",
       "      <td>Long</td>\n",
       "      <td>0.470806</td>\n",
       "      <td>Average</td>\n",
       "    </tr>\n",
       "    <tr>\n",
       "      <th>10650</th>\n",
       "      <td>Jet Airways</td>\n",
       "      <td>2019-05-27</td>\n",
       "      <td>Delhi</td>\n",
       "      <td>Cochin</td>\n",
       "      <td>DEL → AMD → BOM → COK</td>\n",
       "      <td>13:25</td>\n",
       "      <td>04:25 28 May</td>\n",
       "      <td>15.00</td>\n",
       "      <td>2 stops</td>\n",
       "      <td>No info</td>\n",
       "      <td>16704.0</td>\n",
       "      <td>Monday</td>\n",
       "      <td>False</td>\n",
       "      <td>Long</td>\n",
       "      <td>1.712671</td>\n",
       "      <td>Expensive</td>\n",
       "    </tr>\n",
       "    <tr>\n",
       "      <th>10651</th>\n",
       "      <td>Jet Airways</td>\n",
       "      <td>2019-03-12</td>\n",
       "      <td>Banglore</td>\n",
       "      <td>New Delhi</td>\n",
       "      <td>BLR → BOM → DEL</td>\n",
       "      <td>20:35</td>\n",
       "      <td>21:20 13 Mar</td>\n",
       "      <td>24.75</td>\n",
       "      <td>1 stop</td>\n",
       "      <td>In-flight meal not included</td>\n",
       "      <td>11087.0</td>\n",
       "      <td>Tuesday</td>\n",
       "      <td>False</td>\n",
       "      <td>Long</td>\n",
       "      <td>0.456719</td>\n",
       "      <td>Average</td>\n",
       "    </tr>\n",
       "  </tbody>\n",
       "</table>\n",
       "<p>2433 rows × 16 columns</p>\n",
       "</div>"
      ]
     },
     "execution_count": 21,
     "metadata": {},
     "output_type": "execute_result"
    }
   ],
   "execution_count": 21
  },
  {
   "cell_type": "code",
   "id": "71cc4dd2",
   "metadata": {
    "ExecuteTime": {
     "end_time": "2025-10-16T22:45:54.295446Z",
     "start_time": "2025-10-16T22:45:54.291058Z"
    }
   },
   "source": [
    "planes.loc[(planes['Airline'] == 'Jet Airways') & (planes['Price'] > 10000), ['Source']].to_numpy()"
   ],
   "outputs": [
    {
     "data": {
      "text/plain": [
       "array([['Delhi'],\n",
       "       ['Banglore'],\n",
       "       ['Banglore'],\n",
       "       ...,\n",
       "       ['Delhi'],\n",
       "       ['Delhi'],\n",
       "       ['Banglore']], shape=(2433, 1), dtype=object)"
      ]
     },
     "execution_count": 22,
     "metadata": {},
     "output_type": "execute_result"
    }
   ],
   "execution_count": 22
  },
  {
   "cell_type": "code",
   "id": "592a3215",
   "metadata": {
    "ExecuteTime": {
     "end_time": "2025-10-16T22:45:54.441374Z",
     "start_time": "2025-10-16T22:45:54.438284Z"
    }
   },
   "source": [
    "planes.shape[0]"
   ],
   "outputs": [
    {
     "data": {
      "text/plain": [
       "10660"
      ]
     },
     "execution_count": 23,
     "metadata": {},
     "output_type": "execute_result"
    }
   ],
   "execution_count": 23
  },
  {
   "cell_type": "code",
   "id": "07e57fae",
   "metadata": {
    "ExecuteTime": {
     "end_time": "2025-10-16T22:45:54.634727Z",
     "start_time": "2025-10-16T22:45:54.629034Z"
    }
   },
   "source": [
    "planes['Additional_Info'].value_counts()"
   ],
   "outputs": [
    {
     "data": {
      "text/plain": [
       "Additional_Info\n",
       "No info                         7867\n",
       "In-flight meal not included     1874\n",
       "No check-in baggage included     299\n",
       "1 Long layover                    18\n",
       "Change airports                    7\n",
       "No Info                            2\n",
       "1 Short layover                    1\n",
       "Business class                     1\n",
       "Red-eye flight                     1\n",
       "2 Long layover                     1\n",
       "Name: count, dtype: int64"
      ]
     },
     "execution_count": 24,
     "metadata": {},
     "output_type": "execute_result"
    }
   ],
   "execution_count": 24
  },
  {
   "cell_type": "code",
   "id": "ad8af179",
   "metadata": {
    "ExecuteTime": {
     "end_time": "2025-10-16T22:45:54.816529Z",
     "start_time": "2025-10-16T22:45:54.789139Z"
    }
   },
   "source": [
    "airline_info ={\n",
    "    airline:planes.loc[planes['Airline'] == airline].reset_index() for airline in planes.loc[planes['Airline'].notnull(),'Airline'].unique()\n",
    "}\n",
    "global_75th = np.quantile(planes.loc[planes['Price'].notnull(), 'Price'],0.75 )\n",
    "global_25th = np.quantile(planes.loc[planes['Price'].notnull(), 'Price'], 0.25)\n",
    "\n",
    "global_iqr = global_75th - global_25th\n",
    "\n",
    "gb_upper = global_75th + (global_iqr * 1.5)\n",
    "gb_lower = global_25th - (global_iqr * 1.5)\n",
    "for airline, data in airline_info.items():\n",
    "    \n",
    "    ## find irregular values compared to whole dataset\n",
    "    global_anomalies = data.loc[(data['Price'] > gb_upper) | (data['Price']< gb_lower)].shape[0]\n",
    "    if global_anomalies:\n",
    "        print(f'{airline} has {global_anomalies} global anomalies')\n",
    "    \n",
    "    ## Find irregularity within the group\n",
    "    within_75th = np.quantile(data.loc[data['Price'].notnull(), 'Price'],0.75 )\n",
    "    within_25th = np.quantile(data.loc[data['Price'].notnull(), 'Price'], 0.25)\n",
    "\n",
    "    within_iqr = within_75th - within_25th\n",
    "\n",
    "    wh_upper = within_75th + (global_iqr * 1.5)\n",
    "    wh_lower = within_25th - (global_iqr * 1.5)\n",
    "\n",
    "    local_anomalies = data.loc[(data['Price'] > wh_upper) | (data['Price']< wh_lower)].shape[0]\n",
    "    if local_anomalies:\n",
    "        print(f'{airline} has {local_anomalies} local anomalies')\n",
    "        print('-----------\\n\\n')\n",
    "\n"
   ],
   "outputs": [
    {
     "name": "stdout",
     "output_type": "stream",
     "text": [
      "Jet Airways has 58 global anomalies\n",
      "Jet Airways has 54 local anomalies\n",
      "-----------\n",
      "\n",
      "\n",
      "IndiGo has 2 local anomalies\n",
      "-----------\n",
      "\n",
      "\n",
      "SpiceJet has 1 global anomalies\n",
      "SpiceJet has 1 local anomalies\n",
      "-----------\n",
      "\n",
      "\n",
      "Multiple carriers has 9 global anomalies\n",
      "Multiple carriers has 7 local anomalies\n",
      "-----------\n",
      "\n",
      "\n",
      "Air India has 13 global anomalies\n",
      "Air India has 13 local anomalies\n",
      "-----------\n",
      "\n",
      "\n",
      "GoAir has 3 local anomalies\n",
      "-----------\n",
      "\n",
      "\n",
      "Vistara has 2 local anomalies\n",
      "-----------\n",
      "\n",
      "\n"
     ]
    }
   ],
   "execution_count": 25
  },
  {
   "cell_type": "code",
   "id": "69778f50",
   "metadata": {
    "ExecuteTime": {
     "end_time": "2025-10-16T22:45:55.160103Z",
     "start_time": "2025-10-16T22:45:55.012631Z"
    }
   },
   "source": [
    "sns.countplot(data=planes, y='Airline', hue='Price Band')"
   ],
   "outputs": [
    {
     "data": {
      "text/plain": [
       "<Axes: xlabel='count', ylabel='Airline'>"
      ]
     },
     "execution_count": 26,
     "metadata": {},
     "output_type": "execute_result"
    },
    {
     "data": {
      "text/plain": [
       "<Figure size 640x480 with 1 Axes>"
      ],
      "image/png": "[encoded data removed]"
     },
     "metadata": {},
     "output_type": "display_data",
     "jetTransient": {
      "display_id": null
     }
    }
   ],
   "execution_count": 26
  },
  {
   "cell_type": "markdown",
   "id": "5719c6d9",
   "metadata": {},
   "source": [
    "## Use the Haul data/duration and find anomalies for each airline\n",
    "## Bonus - for each source -> Destination (look into anomalies for price and duration)"
   ]
  },
  {
   "cell_type": "markdown",
   "id": "5544e337",
   "metadata": {},
   "source": [
    "## Effect Size \n",
    "\n",
    "- Categorical vs Categorical - CHI-Sq -> Cramer's V\n",
    "\n",
    "- Numerical Vs Numerical - Pearson's R (Linear Relationships), Spearman's Rank (Non-Linear Relationships)\n",
    "\n",
    "- Categorical vs Numerical - ETA ^2 "
   ]
  },
  {
   "cell_type": "code",
   "id": "c6f73172",
   "metadata": {
    "ExecuteTime": {
     "end_time": "2025-10-16T22:45:55.867988Z",
     "start_time": "2025-10-16T22:45:55.854046Z"
    }
   },
   "source": [
    "## Chi-Sq -> Cramer's V\n",
    "from scipy import stats\n",
    "planes[['Haul', 'Price Band']]\n",
    "haul_vs_band = pd.crosstab(planes['Price Band'], planes['Haul'])\n",
    "haul_vs_band\n",
    "\n",
    "chi2, p, d, expected = stats.chi2_contingency(haul_vs_band)\n",
    "expected\n",
    "## calc te degrees of freedom\n",
    "dof = min(haul_vs_band.shape[0]-1, haul_vs_band.shape[1]-1)\n",
    "\n",
    "n = np.sum(haul_vs_band.values)\n",
    "\n",
    "#compute cramer's v\n",
    "cramer_v = np.sqrt((chi2/n)/dof)\n",
    "print(cramer_v)\n",
    "haul_vs_band\n"
   ],
   "outputs": [
    {
     "name": "stdout",
     "output_type": "stream",
     "text": [
      "0.43258918160300525\n"
     ]
    },
    {
     "data": {
      "text/plain": [
       "Haul            Short   Mid  Long\n",
       "Price Band                       \n",
       "Cheap            1579    36     7\n",
       "Average          1676  1648  4416\n",
       "Expensive           9   107   243\n",
       "Very Expensive      5    41    81"
      ],
      "text/html": [
       "<div>\n",
       "<style scoped>\n",
       "    .dataframe tbody tr th:only-of-type {\n",
       "        vertical-align: middle;\n",
       "    }\n",
       "\n",
       "    .dataframe tbody tr th {\n",
       "        vertical-align: top;\n",
       "    }\n",
       "\n",
       "    .dataframe thead th {\n",
       "        text-align: right;\n",
       "    }\n",
       "</style>\n",
       "<table border=\"1\" class=\"dataframe\">\n",
       "  <thead>\n",
       "    <tr style=\"text-align: right;\">\n",
       "      <th>Haul</th>\n",
       "      <th>Short</th>\n",
       "      <th>Mid</th>\n",
       "      <th>Long</th>\n",
       "    </tr>\n",
       "    <tr>\n",
       "      <th>Price Band</th>\n",
       "      <th></th>\n",
       "      <th></th>\n",
       "      <th></th>\n",
       "    </tr>\n",
       "  </thead>\n",
       "  <tbody>\n",
       "    <tr>\n",
       "      <th>Cheap</th>\n",
       "      <td>1579</td>\n",
       "      <td>36</td>\n",
       "      <td>7</td>\n",
       "    </tr>\n",
       "    <tr>\n",
       "      <th>Average</th>\n",
       "      <td>1676</td>\n",
       "      <td>1648</td>\n",
       "      <td>4416</td>\n",
       "    </tr>\n",
       "    <tr>\n",
       "      <th>Expensive</th>\n",
       "      <td>9</td>\n",
       "      <td>107</td>\n",
       "      <td>243</td>\n",
       "    </tr>\n",
       "    <tr>\n",
       "      <th>Very Expensive</th>\n",
       "      <td>5</td>\n",
       "      <td>41</td>\n",
       "      <td>81</td>\n",
       "    </tr>\n",
       "  </tbody>\n",
       "</table>\n",
       "</div>"
      ]
     },
     "execution_count": 27,
     "metadata": {},
     "output_type": "execute_result"
    }
   ],
   "execution_count": 27
  },
  {
   "cell_type": "code",
   "id": "75cb6944",
   "metadata": {
    "ExecuteTime": {
     "end_time": "2025-10-16T22:45:56.908631Z",
     "start_time": "2025-10-16T22:45:56.900213Z"
    }
   },
   "source": [
    "## Numerical vs Numerical\n",
    "non_null_planes = planes.copy(deep=True).dropna()\n",
    "stats.pearsonr(non_null_planes['Price'], non_null_planes['Duration'])"
   ],
   "outputs": [
    {
     "data": {
      "text/plain": [
       "PearsonRResult(statistic=np.float64(0.5348017184685724), pvalue=np.float64(0.0))"
      ]
     },
     "execution_count": 28,
     "metadata": {},
     "output_type": "execute_result"
    }
   ],
   "execution_count": 28
  },
  {
   "cell_type": "markdown",
   "id": "2e11a7f4",
   "metadata": {},
   "source": [
    "## Perform any cleaning required on new data\n",
    "## Do an EDA Study on the data\n",
    "## Calculate some effect sizes for the variables"
   ]
  },
  {
   "cell_type": "markdown",
   "id": "98820edc",
   "metadata": {},
   "source": [
    "## ETA Coefficient \n",
    "\n",
    "- Effect of a categorical variable on a numerical variable"
   ]
  },
  {
   "cell_type": "code",
   "id": "076812a4",
   "metadata": {
    "ExecuteTime": {
     "end_time": "2025-10-16T22:45:58.746612Z",
     "start_time": "2025-10-16T22:45:58.732923Z"
    }
   },
   "source": [
    "def eta_coef(categories, values):\n",
    "\n",
    "    ## force inputs to be np arrays for purpose of mathematical calculations\n",
    "    categories = np.array(categories)\n",
    "    values = np.array(values)\n",
    "\n",
    "    ## create bins\n",
    "    effect_sizes = [0.06,0.14]\n",
    "\n",
    "    ## label for the effect\n",
    "    effect_labels = ['Small', 'Medium', 'Large']\n",
    "\n",
    "    ss_e = 0\n",
    "    ss_g = 0\n",
    "    for category in set(categories):\n",
    "        subgroup = values[np.where(categories == category)[0]]\n",
    "        ss_e += sum((subgroup-np.mean(subgroup))**2)\n",
    "        ss_g += len(subgroup) * ((np.mean(subgroup) - np.mean(values))**2)\n",
    "    \n",
    "    effect_size = effect_labels[int(np.digitize([(ss_g/(ss_e + ss_g))], effect_sizes, right= False)[0])]\n",
    "\n",
    "    return effect_size, (ss_g/(ss_e + ss_g))\n",
    "eta_coef(categories=non_null_planes['Duration'], values=non_null_planes['Price'])\n",
    "\n",
    "        "
   ],
   "outputs": [
    {
     "data": {
      "text/plain": [
       "('Large', np.float64(0.5429271130747535))"
      ]
     },
     "execution_count": 29,
     "metadata": {},
     "output_type": "execute_result"
    }
   ],
   "execution_count": 29
  },
  {
   "cell_type": "code",
   "id": "3043d662",
   "metadata": {
    "ExecuteTime": {
     "end_time": "2025-10-16T22:45:59.114559Z",
     "start_time": "2025-10-16T22:45:59.110761Z"
    }
   },
   "source": [
    "planes['Day of Week'].unique()"
   ],
   "outputs": [
    {
     "data": {
      "text/plain": [
       "array(['Sunday', 'Friday', 'Monday', 'Tuesday', 'Saturday', 'Thursday',\n",
       "       'Wednesday', nan], dtype=object)"
      ]
     },
     "execution_count": 30,
     "metadata": {},
     "output_type": "execute_result"
    }
   ],
   "execution_count": 30
  },
  {
   "cell_type": "code",
   "id": "5f74e75f",
   "metadata": {
    "ExecuteTime": {
     "end_time": "2025-10-16T22:45:59.482383Z",
     "start_time": "2025-10-16T22:45:59.474785Z"
    }
   },
   "source": [
    "non_missing = planes.dropna()\n",
    "numericals = non_missing['Price'].to_numpy()\n",
    "airlines = non_missing['Airline'].to_numpy()\n",
    "sub = numericals[np.where(airlines == 'GoAir')[0]]\n",
    "sum((sub - np.mean(sub))**2) \n",
    "len(sub) \n",
    "(np.mean(sub) - np.mean(numericals) )**2"
   ],
   "outputs": [
    {
     "data": {
      "text/plain": [
       "np.float64(12776067.379144901)"
      ]
     },
     "execution_count": 31,
     "metadata": {},
     "output_type": "execute_result"
    }
   ],
   "execution_count": 31
  },
  {
   "cell_type": "code",
   "id": "76a918a6",
   "metadata": {
    "ExecuteTime": {
     "end_time": "2025-10-16T22:45:59.848223Z",
     "start_time": "2025-10-16T22:45:59.843660Z"
    }
   },
   "source": [
    "airlines = planes['Airline'].to_numpy()\n",
    "np.where(airlines == 'Jet Airways')[0]\n",
    "planes.iloc[np.where(airlines == 'IndiGo')[0],14]"
   ],
   "outputs": [
    {
     "data": {
      "text/plain": [
       "1       -0.631981\n",
       "2        0.951990\n",
       "9       -1.089016\n",
       "12      -0.948149\n",
       "20      -1.140667\n",
       "           ...   \n",
       "10608   -0.672452\n",
       "10618   -0.391165\n",
       "10626   -0.953963\n",
       "10641   -0.943901\n",
       "10642   -0.948149\n",
       "Name: Price_Z, Length: 1981, dtype: float64"
      ]
     },
     "execution_count": 32,
     "metadata": {},
     "output_type": "execute_result"
    }
   ],
   "execution_count": 32
  },
  {
   "metadata": {
    "ExecuteTime": {
     "end_time": "2025-10-16T22:46:00.332636Z",
     "start_time": "2025-10-16T22:46:00.331034Z"
    }
   },
   "cell_type": "code",
   "source": "",
   "id": "6058b25d863e91d1",
   "outputs": [],
   "execution_count": null
  },
  {
   "metadata": {},
   "cell_type": "code",
   "outputs": [],
   "execution_count": null,
   "source": "",
   "id": "76d2a0eff0082893"
  }
 ],
 "metadata": {
  "kernelspec": {
   "display_name": "Python 3",
   "language": "python",
   "name": "python3"
  },
  "language_info": {
   "codemirror_mode": {
    "name": "ipython",
    "version": 3
   },
   "file_extension": ".py",
   "mimetype": "text/x-python",
   "name": "python",
   "nbconvert_exporter": "python",
   "pygments_lexer": "ipython3",
   "version": "3.13.8"
  }
 },
 "nbformat": 4,
 "nbformat_minor": 5
}
