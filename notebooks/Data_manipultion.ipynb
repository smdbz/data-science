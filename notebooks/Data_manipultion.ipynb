{
 "cells": [
  {
   "cell_type": "markdown",
   "id": "b51887ff",
   "metadata": {},
   "source": [
    "## Data Manipulation and python syntax"
   ]
  },
  {
   "cell_type": "code",
   "id": "6e4b3e8d",
   "metadata": {
    "ExecuteTime": {
     "end_time": "2025-10-14T12:38:56.189374Z",
     "start_time": "2025-10-14T12:38:56.159479Z"
    }
   },
   "source": [
    "import pandas as pd\n",
    "import numpy as np\n",
    "from scipy import stats\n",
    "from utils import setup_project_root\n",
    "\n",
    "setup_project_root()"
   ],
   "outputs": [
    {
     "data": {
      "text/plain": [
       "           Airline Date_of_Journey    Source Destination  \\\n",
       "0      Jet Airways       9/06/2019     Delhi      Cochin   \n",
       "1           IndiGo      12/05/2019   Kolkata    Banglore   \n",
       "2           IndiGo      01/03/2019  Banglore   New Delhi   \n",
       "3         SpiceJet      24/06/2019   Kolkata    Banglore   \n",
       "4      Jet Airways      12/03/2019  Banglore   New Delhi   \n",
       "...            ...             ...       ...         ...   \n",
       "10655     Air Asia       9/04/2019   Kolkata    Banglore   \n",
       "10656    Air India      27/04/2019   Kolkata    Banglore   \n",
       "10657  Jet Airways      27/04/2019  Banglore       Delhi   \n",
       "10658      Vistara      01/03/2019  Banglore   New Delhi   \n",
       "10659    Air India       9/05/2019     Delhi      Cochin   \n",
       "\n",
       "                       Route Dep_Time  Arrival_Time Duration Total_Stops  \\\n",
       "0      DEL → LKO → BOM → COK    09:25  04:25 10 Jun      19h     2 stops   \n",
       "1            CCU → NAG → BLR    18:05         23:30   5h 25m      1 stop   \n",
       "2            BLR → NAG → DEL    16:50         21:35   4h 45m      1 stop   \n",
       "3                  CCU → BLR    09:00         11:25   2h 25m    non-stop   \n",
       "4            BLR → BOM → DEL    18:55  10:25 13 Mar  15h 30m      1 stop   \n",
       "...                      ...      ...           ...      ...         ...   \n",
       "10655              CCU → BLR    19:55         22:25   2h 30m    non-stop   \n",
       "10656              CCU → BLR    20:45         23:20   2h 35m    non-stop   \n",
       "10657              BLR → DEL      NaN         11:20       3h    non-stop   \n",
       "10658              BLR → DEL    11:30         14:10   2h 40m    non-stop   \n",
       "10659  DEL → GOI → BOM → COK    10:55         19:15   8h 20m     2 stops   \n",
       "\n",
       "                   Additional_Info    Price  \n",
       "0                          No info  13882.0  \n",
       "1                          No info   6218.0  \n",
       "2                          No info  13302.0  \n",
       "3                          No info   3873.0  \n",
       "4      In-flight meal not included  11087.0  \n",
       "...                            ...      ...  \n",
       "10655                      No info   4107.0  \n",
       "10656                      No info   4145.0  \n",
       "10657                          NaN   7229.0  \n",
       "10658                      No info  12648.0  \n",
       "10659                      No info  11753.0  \n",
       "\n",
       "[10660 rows x 11 columns]"
      ],
      "text/html": [
       "<div>\n",
       "<style scoped>\n",
       "    .dataframe tbody tr th:only-of-type {\n",
       "        vertical-align: middle;\n",
       "    }\n",
       "\n",
       "    .dataframe tbody tr th {\n",
       "        vertical-align: top;\n",
       "    }\n",
       "\n",
       "    .dataframe thead th {\n",
       "        text-align: right;\n",
       "    }\n",
       "</style>\n",
       "<table border=\"1\" class=\"dataframe\">\n",
       "  <thead>\n",
       "    <tr style=\"text-align: right;\">\n",
       "      <th></th>\n",
       "      <th>Airline</th>\n",
       "      <th>Date_of_Journey</th>\n",
       "      <th>Source</th>\n",
       "      <th>Destination</th>\n",
       "      <th>Route</th>\n",
       "      <th>Dep_Time</th>\n",
       "      <th>Arrival_Time</th>\n",
       "      <th>Duration</th>\n",
       "      <th>Total_Stops</th>\n",
       "      <th>Additional_Info</th>\n",
       "      <th>Price</th>\n",
       "    </tr>\n",
       "  </thead>\n",
       "  <tbody>\n",
       "    <tr>\n",
       "      <th>0</th>\n",
       "      <td>Jet Airways</td>\n",
       "      <td>9/06/2019</td>\n",
       "      <td>Delhi</td>\n",
       "      <td>Cochin</td>\n",
       "      <td>DEL → LKO → BOM → COK</td>\n",
       "      <td>09:25</td>\n",
       "      <td>04:25 10 Jun</td>\n",
       "      <td>19h</td>\n",
       "      <td>2 stops</td>\n",
       "      <td>No info</td>\n",
       "      <td>13882.0</td>\n",
       "    </tr>\n",
       "    <tr>\n",
       "      <th>1</th>\n",
       "      <td>IndiGo</td>\n",
       "      <td>12/05/2019</td>\n",
       "      <td>Kolkata</td>\n",
       "      <td>Banglore</td>\n",
       "      <td>CCU → NAG → BLR</td>\n",
       "      <td>18:05</td>\n",
       "      <td>23:30</td>\n",
       "      <td>5h 25m</td>\n",
       "      <td>1 stop</td>\n",
       "      <td>No info</td>\n",
       "      <td>6218.0</td>\n",
       "    </tr>\n",
       "    <tr>\n",
       "      <th>2</th>\n",
       "      <td>IndiGo</td>\n",
       "      <td>01/03/2019</td>\n",
       "      <td>Banglore</td>\n",
       "      <td>New Delhi</td>\n",
       "      <td>BLR → NAG → DEL</td>\n",
       "      <td>16:50</td>\n",
       "      <td>21:35</td>\n",
       "      <td>4h 45m</td>\n",
       "      <td>1 stop</td>\n",
       "      <td>No info</td>\n",
       "      <td>13302.0</td>\n",
       "    </tr>\n",
       "    <tr>\n",
       "      <th>3</th>\n",
       "      <td>SpiceJet</td>\n",
       "      <td>24/06/2019</td>\n",
       "      <td>Kolkata</td>\n",
       "      <td>Banglore</td>\n",
       "      <td>CCU → BLR</td>\n",
       "      <td>09:00</td>\n",
       "      <td>11:25</td>\n",
       "      <td>2h 25m</td>\n",
       "      <td>non-stop</td>\n",
       "      <td>No info</td>\n",
       "      <td>3873.0</td>\n",
       "    </tr>\n",
       "    <tr>\n",
       "      <th>4</th>\n",
       "      <td>Jet Airways</td>\n",
       "      <td>12/03/2019</td>\n",
       "      <td>Banglore</td>\n",
       "      <td>New Delhi</td>\n",
       "      <td>BLR → BOM → DEL</td>\n",
       "      <td>18:55</td>\n",
       "      <td>10:25 13 Mar</td>\n",
       "      <td>15h 30m</td>\n",
       "      <td>1 stop</td>\n",
       "      <td>In-flight meal not included</td>\n",
       "      <td>11087.0</td>\n",
       "    </tr>\n",
       "    <tr>\n",
       "      <th>...</th>\n",
       "      <td>...</td>\n",
       "      <td>...</td>\n",
       "      <td>...</td>\n",
       "      <td>...</td>\n",
       "      <td>...</td>\n",
       "      <td>...</td>\n",
       "      <td>...</td>\n",
       "      <td>...</td>\n",
       "      <td>...</td>\n",
       "      <td>...</td>\n",
       "      <td>...</td>\n",
       "    </tr>\n",
       "    <tr>\n",
       "      <th>10655</th>\n",
       "      <td>Air Asia</td>\n",
       "      <td>9/04/2019</td>\n",
       "      <td>Kolkata</td>\n",
       "      <td>Banglore</td>\n",
       "      <td>CCU → BLR</td>\n",
       "      <td>19:55</td>\n",
       "      <td>22:25</td>\n",
       "      <td>2h 30m</td>\n",
       "      <td>non-stop</td>\n",
       "      <td>No info</td>\n",
       "      <td>4107.0</td>\n",
       "    </tr>\n",
       "    <tr>\n",
       "      <th>10656</th>\n",
       "      <td>Air India</td>\n",
       "      <td>27/04/2019</td>\n",
       "      <td>Kolkata</td>\n",
       "      <td>Banglore</td>\n",
       "      <td>CCU → BLR</td>\n",
       "      <td>20:45</td>\n",
       "      <td>23:20</td>\n",
       "      <td>2h 35m</td>\n",
       "      <td>non-stop</td>\n",
       "      <td>No info</td>\n",
       "      <td>4145.0</td>\n",
       "    </tr>\n",
       "    <tr>\n",
       "      <th>10657</th>\n",
       "      <td>Jet Airways</td>\n",
       "      <td>27/04/2019</td>\n",
       "      <td>Banglore</td>\n",
       "      <td>Delhi</td>\n",
       "      <td>BLR → DEL</td>\n",
       "      <td>NaN</td>\n",
       "      <td>11:20</td>\n",
       "      <td>3h</td>\n",
       "      <td>non-stop</td>\n",
       "      <td>NaN</td>\n",
       "      <td>7229.0</td>\n",
       "    </tr>\n",
       "    <tr>\n",
       "      <th>10658</th>\n",
       "      <td>Vistara</td>\n",
       "      <td>01/03/2019</td>\n",
       "      <td>Banglore</td>\n",
       "      <td>New Delhi</td>\n",
       "      <td>BLR → DEL</td>\n",
       "      <td>11:30</td>\n",
       "      <td>14:10</td>\n",
       "      <td>2h 40m</td>\n",
       "      <td>non-stop</td>\n",
       "      <td>No info</td>\n",
       "      <td>12648.0</td>\n",
       "    </tr>\n",
       "    <tr>\n",
       "      <th>10659</th>\n",
       "      <td>Air India</td>\n",
       "      <td>9/05/2019</td>\n",
       "      <td>Delhi</td>\n",
       "      <td>Cochin</td>\n",
       "      <td>DEL → GOI → BOM → COK</td>\n",
       "      <td>10:55</td>\n",
       "      <td>19:15</td>\n",
       "      <td>8h 20m</td>\n",
       "      <td>2 stops</td>\n",
       "      <td>No info</td>\n",
       "      <td>11753.0</td>\n",
       "    </tr>\n",
       "  </tbody>\n",
       "</table>\n",
       "<p>10660 rows × 11 columns</p>\n",
       "</div>"
      ]
     },
     "execution_count": 4,
     "metadata": {},
     "output_type": "execute_result"
    }
   ],
   "execution_count": 4
  },
  {
   "metadata": {
    "ExecuteTime": {
     "end_time": "2025-10-14T12:39:06.876113Z",
     "start_time": "2025-10-14T12:39:06.854276Z"
    }
   },
   "cell_type": "code",
   "source": [
    "planes = pd.read_csv(r\"data/planes.csv\")\n",
    "planes"
   ],
   "id": "ef09b95a92b95e7",
   "outputs": [
    {
     "data": {
      "text/plain": [
       "           Airline Date_of_Journey    Source Destination  \\\n",
       "0      Jet Airways       9/06/2019     Delhi      Cochin   \n",
       "1           IndiGo      12/05/2019   Kolkata    Banglore   \n",
       "2           IndiGo      01/03/2019  Banglore   New Delhi   \n",
       "3         SpiceJet      24/06/2019   Kolkata    Banglore   \n",
       "4      Jet Airways      12/03/2019  Banglore   New Delhi   \n",
       "...            ...             ...       ...         ...   \n",
       "10655     Air Asia       9/04/2019   Kolkata    Banglore   \n",
       "10656    Air India      27/04/2019   Kolkata    Banglore   \n",
       "10657  Jet Airways      27/04/2019  Banglore       Delhi   \n",
       "10658      Vistara      01/03/2019  Banglore   New Delhi   \n",
       "10659    Air India       9/05/2019     Delhi      Cochin   \n",
       "\n",
       "                       Route Dep_Time  Arrival_Time Duration Total_Stops  \\\n",
       "0      DEL → LKO → BOM → COK    09:25  04:25 10 Jun      19h     2 stops   \n",
       "1            CCU → NAG → BLR    18:05         23:30   5h 25m      1 stop   \n",
       "2            BLR → NAG → DEL    16:50         21:35   4h 45m      1 stop   \n",
       "3                  CCU → BLR    09:00         11:25   2h 25m    non-stop   \n",
       "4            BLR → BOM → DEL    18:55  10:25 13 Mar  15h 30m      1 stop   \n",
       "...                      ...      ...           ...      ...         ...   \n",
       "10655              CCU → BLR    19:55         22:25   2h 30m    non-stop   \n",
       "10656              CCU → BLR    20:45         23:20   2h 35m    non-stop   \n",
       "10657              BLR → DEL      NaN         11:20       3h    non-stop   \n",
       "10658              BLR → DEL    11:30         14:10   2h 40m    non-stop   \n",
       "10659  DEL → GOI → BOM → COK    10:55         19:15   8h 20m     2 stops   \n",
       "\n",
       "                   Additional_Info    Price  \n",
       "0                          No info  13882.0  \n",
       "1                          No info   6218.0  \n",
       "2                          No info  13302.0  \n",
       "3                          No info   3873.0  \n",
       "4      In-flight meal not included  11087.0  \n",
       "...                            ...      ...  \n",
       "10655                      No info   4107.0  \n",
       "10656                      No info   4145.0  \n",
       "10657                          NaN   7229.0  \n",
       "10658                      No info  12648.0  \n",
       "10659                      No info  11753.0  \n",
       "\n",
       "[10660 rows x 11 columns]"
      ],
      "text/html": [
       "<div>\n",
       "<style scoped>\n",
       "    .dataframe tbody tr th:only-of-type {\n",
       "        vertical-align: middle;\n",
       "    }\n",
       "\n",
       "    .dataframe tbody tr th {\n",
       "        vertical-align: top;\n",
       "    }\n",
       "\n",
       "    .dataframe thead th {\n",
       "        text-align: right;\n",
       "    }\n",
       "</style>\n",
       "<table border=\"1\" class=\"dataframe\">\n",
       "  <thead>\n",
       "    <tr style=\"text-align: right;\">\n",
       "      <th></th>\n",
       "      <th>Airline</th>\n",
       "      <th>Date_of_Journey</th>\n",
       "      <th>Source</th>\n",
       "      <th>Destination</th>\n",
       "      <th>Route</th>\n",
       "      <th>Dep_Time</th>\n",
       "      <th>Arrival_Time</th>\n",
       "      <th>Duration</th>\n",
       "      <th>Total_Stops</th>\n",
       "      <th>Additional_Info</th>\n",
       "      <th>Price</th>\n",
       "    </tr>\n",
       "  </thead>\n",
       "  <tbody>\n",
       "    <tr>\n",
       "      <th>0</th>\n",
       "      <td>Jet Airways</td>\n",
       "      <td>9/06/2019</td>\n",
       "      <td>Delhi</td>\n",
       "      <td>Cochin</td>\n",
       "      <td>DEL → LKO → BOM → COK</td>\n",
       "      <td>09:25</td>\n",
       "      <td>04:25 10 Jun</td>\n",
       "      <td>19h</td>\n",
       "      <td>2 stops</td>\n",
       "      <td>No info</td>\n",
       "      <td>13882.0</td>\n",
       "    </tr>\n",
       "    <tr>\n",
       "      <th>1</th>\n",
       "      <td>IndiGo</td>\n",
       "      <td>12/05/2019</td>\n",
       "      <td>Kolkata</td>\n",
       "      <td>Banglore</td>\n",
       "      <td>CCU → NAG → BLR</td>\n",
       "      <td>18:05</td>\n",
       "      <td>23:30</td>\n",
       "      <td>5h 25m</td>\n",
       "      <td>1 stop</td>\n",
       "      <td>No info</td>\n",
       "      <td>6218.0</td>\n",
       "    </tr>\n",
       "    <tr>\n",
       "      <th>2</th>\n",
       "      <td>IndiGo</td>\n",
       "      <td>01/03/2019</td>\n",
       "      <td>Banglore</td>\n",
       "      <td>New Delhi</td>\n",
       "      <td>BLR → NAG → DEL</td>\n",
       "      <td>16:50</td>\n",
       "      <td>21:35</td>\n",
       "      <td>4h 45m</td>\n",
       "      <td>1 stop</td>\n",
       "      <td>No info</td>\n",
       "      <td>13302.0</td>\n",
       "    </tr>\n",
       "    <tr>\n",
       "      <th>3</th>\n",
       "      <td>SpiceJet</td>\n",
       "      <td>24/06/2019</td>\n",
       "      <td>Kolkata</td>\n",
       "      <td>Banglore</td>\n",
       "      <td>CCU → BLR</td>\n",
       "      <td>09:00</td>\n",
       "      <td>11:25</td>\n",
       "      <td>2h 25m</td>\n",
       "      <td>non-stop</td>\n",
       "      <td>No info</td>\n",
       "      <td>3873.0</td>\n",
       "    </tr>\n",
       "    <tr>\n",
       "      <th>4</th>\n",
       "      <td>Jet Airways</td>\n",
       "      <td>12/03/2019</td>\n",
       "      <td>Banglore</td>\n",
       "      <td>New Delhi</td>\n",
       "      <td>BLR → BOM → DEL</td>\n",
       "      <td>18:55</td>\n",
       "      <td>10:25 13 Mar</td>\n",
       "      <td>15h 30m</td>\n",
       "      <td>1 stop</td>\n",
       "      <td>In-flight meal not included</td>\n",
       "      <td>11087.0</td>\n",
       "    </tr>\n",
       "    <tr>\n",
       "      <th>...</th>\n",
       "      <td>...</td>\n",
       "      <td>...</td>\n",
       "      <td>...</td>\n",
       "      <td>...</td>\n",
       "      <td>...</td>\n",
       "      <td>...</td>\n",
       "      <td>...</td>\n",
       "      <td>...</td>\n",
       "      <td>...</td>\n",
       "      <td>...</td>\n",
       "      <td>...</td>\n",
       "    </tr>\n",
       "    <tr>\n",
       "      <th>10655</th>\n",
       "      <td>Air Asia</td>\n",
       "      <td>9/04/2019</td>\n",
       "      <td>Kolkata</td>\n",
       "      <td>Banglore</td>\n",
       "      <td>CCU → BLR</td>\n",
       "      <td>19:55</td>\n",
       "      <td>22:25</td>\n",
       "      <td>2h 30m</td>\n",
       "      <td>non-stop</td>\n",
       "      <td>No info</td>\n",
       "      <td>4107.0</td>\n",
       "    </tr>\n",
       "    <tr>\n",
       "      <th>10656</th>\n",
       "      <td>Air India</td>\n",
       "      <td>27/04/2019</td>\n",
       "      <td>Kolkata</td>\n",
       "      <td>Banglore</td>\n",
       "      <td>CCU → BLR</td>\n",
       "      <td>20:45</td>\n",
       "      <td>23:20</td>\n",
       "      <td>2h 35m</td>\n",
       "      <td>non-stop</td>\n",
       "      <td>No info</td>\n",
       "      <td>4145.0</td>\n",
       "    </tr>\n",
       "    <tr>\n",
       "      <th>10657</th>\n",
       "      <td>Jet Airways</td>\n",
       "      <td>27/04/2019</td>\n",
       "      <td>Banglore</td>\n",
       "      <td>Delhi</td>\n",
       "      <td>BLR → DEL</td>\n",
       "      <td>NaN</td>\n",
       "      <td>11:20</td>\n",
       "      <td>3h</td>\n",
       "      <td>non-stop</td>\n",
       "      <td>NaN</td>\n",
       "      <td>7229.0</td>\n",
       "    </tr>\n",
       "    <tr>\n",
       "      <th>10658</th>\n",
       "      <td>Vistara</td>\n",
       "      <td>01/03/2019</td>\n",
       "      <td>Banglore</td>\n",
       "      <td>New Delhi</td>\n",
       "      <td>BLR → DEL</td>\n",
       "      <td>11:30</td>\n",
       "      <td>14:10</td>\n",
       "      <td>2h 40m</td>\n",
       "      <td>non-stop</td>\n",
       "      <td>No info</td>\n",
       "      <td>12648.0</td>\n",
       "    </tr>\n",
       "    <tr>\n",
       "      <th>10659</th>\n",
       "      <td>Air India</td>\n",
       "      <td>9/05/2019</td>\n",
       "      <td>Delhi</td>\n",
       "      <td>Cochin</td>\n",
       "      <td>DEL → GOI → BOM → COK</td>\n",
       "      <td>10:55</td>\n",
       "      <td>19:15</td>\n",
       "      <td>8h 20m</td>\n",
       "      <td>2 stops</td>\n",
       "      <td>No info</td>\n",
       "      <td>11753.0</td>\n",
       "    </tr>\n",
       "  </tbody>\n",
       "</table>\n",
       "<p>10660 rows × 11 columns</p>\n",
       "</div>"
      ]
     },
     "execution_count": 5,
     "metadata": {},
     "output_type": "execute_result"
    }
   ],
   "execution_count": 5
  },
  {
   "cell_type": "markdown",
   "id": "3dd49cba",
   "metadata": {},
   "source": [
    "## Looking at d-types"
   ]
  },
  {
   "cell_type": "code",
   "execution_count": 2,
   "id": "39dc156e",
   "metadata": {},
   "outputs": [
    {
     "name": "stdout",
     "output_type": "stream",
     "text": [
      "<class 'pandas.core.frame.DataFrame'>\n",
      "RangeIndex: 10660 entries, 0 to 10659\n",
      "Data columns (total 11 columns):\n",
      " #   Column           Non-Null Count  Dtype  \n",
      "---  ------           --------------  -----  \n",
      " 0   Airline          10233 non-null  object \n",
      " 1   Date_of_Journey  10338 non-null  object \n",
      " 2   Source           10473 non-null  object \n",
      " 3   Destination      10313 non-null  object \n",
      " 4   Route            10404 non-null  object \n",
      " 5   Dep_Time         10400 non-null  object \n",
      " 6   Arrival_Time     10466 non-null  object \n",
      " 7   Duration         10446 non-null  object \n",
      " 8   Total_Stops      10448 non-null  object \n",
      " 9   Additional_Info  10071 non-null  object \n",
      " 10  Price            10044 non-null  float64\n",
      "dtypes: float64(1), object(10)\n",
      "memory usage: 916.2+ KB\n"
     ]
    }
   ],
   "source": [
    "planes.info()"
   ]
  },
  {
   "cell_type": "code",
   "execution_count": 3,
   "id": "f217a012",
   "metadata": {},
   "outputs": [],
   "source": [
    "## Converting into dates\n",
    "planes['Date_of_Journey'] = pd.to_datetime(planes['Date_of_Journey'], format='%d/%m/%Y')\n",
    "planes['Day of Week'] = planes['Date_of_Journey'].dt.day_name()\n",
    "\n",
    "planes[['Date_of_Journey', 'Day of Week']]\n",
    "\n",
    "def weekend(day):\n",
    "    if day in ['Sunday', 'Saturday']:\n",
    "        return True\n",
    "    else:\n",
    "        return False\n",
    "\n",
    "planes['Weekend'] = planes['Day of Week'].transform(weekend)\n",
    "planes[['Date_of_Journey', 'Day of Week', 'Weekend']]\n",
    "\n",
    "beginning_week_flights = planes[planes['Day of Week'].isin(['Monday', 'Tuesday', 'Wednesday'])]"
   ]
  },
  {
   "cell_type": "code",
   "execution_count": 4,
   "id": "5222b152",
   "metadata": {},
   "outputs": [
    {
     "data": {
      "application/vnd.microsoft.datawrangler.viewer.v0+json": {
       "columns": [
        {
         "name": "Day of Week",
         "rawType": "object",
         "type": "string"
        },
        {
         "name": "proportion",
         "rawType": "float64",
         "type": "float"
        }
       ],
       "ref": "de871597-cf14-4a1b-b0de-9b24f3d42124",
       "rows": [
        [
         "Wednesday",
         "43.0"
        ],
        [
         "Monday",
         "39.0"
        ],
        [
         "Tuesday",
         "18.0"
        ]
       ],
       "shape": {
        "columns": 1,
        "rows": 3
       }
      },
      "text/plain": [
       "Day of Week\n",
       "Wednesday    43.0\n",
       "Monday       39.0\n",
       "Tuesday      18.0\n",
       "Name: proportion, dtype: float64"
      ]
     },
     "execution_count": 4,
     "metadata": {},
     "output_type": "execute_result"
    }
   ],
   "source": [
    "round(beginning_week_flights['Day of Week'].value_counts(normalize=True), 2)*100"
   ]
  },
  {
   "cell_type": "markdown",
   "id": "c213e986",
   "metadata": {},
   "source": [
    "## Regular Expressions\n",
    "\n",
    "- \\d: digit character\n",
    "- \\w: word char\n",
    "- \\s: space cnhar\n",
    "- \\D: non-digit\n",
    "- \\S\n",
    "- \\W\n",
    "\n",
    "- Ranges:\n",
    "    [0-9]\n",
    "    [A-Za-z]\n",
    "\n",
    "- Flags/Modifiers\n",
    "    '+' one or more of the preceding char\n",
    "    '?' zero or one of preceding\n",
    "    '*' zero or more"
   ]
  },
  {
   "cell_type": "code",
   "execution_count": 5,
   "id": "db4d59e4",
   "metadata": {},
   "outputs": [],
   "source": [
    "planes['Duration'].sample(frac=0.1)\n",
    "import re\n",
    "def extract_duration(duration):\n",
    "    if pd.isna(duration):\n",
    "        return None\n",
    "    hours_regex = r'(\\d+)h'\n",
    "    mins_regex = r'(\\d+)m'\n",
    "\n",
    "    hours = re.findall(hours_regex, duration)\n",
    "    mins = re.findall(mins_regex, duration)\n",
    "\n",
    "    if hours:\n",
    "        hours = int(hours[0])\n",
    "    else:\n",
    "        hours=0\n",
    "    if mins:\n",
    "        mins = round(int(mins[0])/60,2)\n",
    "    else:\n",
    "        mins=0\n",
    "    \n",
    "    return hours + mins\n",
    "list(map(extract_duration, planes['Duration']))\n",
    "planes['Duration'] = planes['Duration'].transform(extract_duration)"
   ]
  },
  {
   "cell_type": "code",
   "execution_count": 6,
   "id": "45a69f82",
   "metadata": {},
   "outputs": [
    {
     "data": {
      "text/plain": [
       "np.float64(0.5245640645432746)"
      ]
     },
     "execution_count": 6,
     "metadata": {},
     "output_type": "execute_result"
    }
   ],
   "source": [
    "planes['Duration'].corr(planes['Price'])"
   ]
  },
  {
   "cell_type": "code",
   "execution_count": 7,
   "id": "346451a1",
   "metadata": {},
   "outputs": [
    {
     "data": {
      "text/plain": [
       "<Axes: xlabel='Duration', ylabel='Count'>"
      ]
     },
     "execution_count": 7,
     "metadata": {},
     "output_type": "execute_result"
    },
    {
     "data": {
      "image/png": "[encoded data removed]",
      "text/plain": [
       "<Figure size 640x480 with 1 Axes>"
      ]
     },
     "metadata": {},
     "output_type": "display_data"
    }
   ],
   "source": [
    "import seaborn as sns\n",
    "sns.histplot(planes['Duration'])"
   ]
  },
  {
   "cell_type": "code",
   "execution_count": 8,
   "id": "c9e7ce33",
   "metadata": {},
   "outputs": [
    {
     "data": {
      "application/vnd.microsoft.datawrangler.viewer.v0+json": {
       "columns": [
        {
         "name": "index",
         "rawType": "int64",
         "type": "integer"
        },
        {
         "name": "Duration",
         "rawType": "float64",
         "type": "float"
        },
        {
         "name": "Haul",
         "rawType": "category",
         "type": "unknown"
        }
       ],
       "ref": "1043107c-3e48-4b17-95e7-30511871deec",
       "rows": [
        [
         "0",
         "19.0",
         "Long"
        ],
        [
         "1",
         "5.42",
         "Mid"
        ],
        [
         "2",
         "4.75",
         "Mid"
        ],
        [
         "3",
         "2.42",
         "Short"
        ],
        [
         "4",
         "15.5",
         "Long"
        ],
        [
         "5",
         "21.08",
         "Long"
        ],
        [
         "6",
         "25.5",
         "Long"
        ],
        [
         "7",
         "7.83",
         "Mid"
        ],
        [
         "8",
         "13.25",
         "Long"
        ],
        [
         "9",
         "2.58",
         "Short"
        ],
        [
         "10",
         "2.25",
         "Short"
        ],
        [
         "11",
         "12.17",
         "Long"
        ],
        [
         "12",
         "2.58",
         "Short"
        ],
        [
         "13",
         "26.58",
         "Long"
        ],
        [
         "14",
         "4.5",
         "Mid"
        ],
        [
         "15",
         "22.58",
         "Long"
        ],
        [
         "16",
         "23.0",
         "Long"
        ],
        [
         "17",
         "20.58",
         "Long"
        ],
        [
         "18",
         "5.17",
         "Mid"
        ],
        [
         "19",
         "15.33",
         "Long"
        ],
        [
         "20",
         "2.83",
         "Short"
        ],
        [
         "21",
         "2.92",
         "Short"
        ],
        [
         "22",
         "13.33",
         "Long"
        ],
        [
         "23",
         "15.17",
         "Long"
        ],
        [
         "24",
         "5.75",
         "Mid"
        ],
        [
         "25",
         "5.92",
         "Mid"
        ],
        [
         "26",
         "2.83",
         "Short"
        ],
        [
         "27",
         "2.25",
         "Short"
        ],
        [
         "28",
         "2.25",
         "Short"
        ],
        [
         "29",
         "13.42",
         "Long"
        ],
        [
         "30",
         "2.83",
         "Short"
        ],
        [
         "31",
         "22.0",
         "Long"
        ],
        [
         "32",
         "5.5",
         "Mid"
        ],
        [
         "33",
         "10.42",
         "Long"
        ],
        [
         "34",
         "5.25",
         "Mid"
        ],
        [
         "35",
         "2.5",
         "Short"
        ],
        [
         "36",
         "6.25",
         "Mid"
        ],
        [
         "37",
         "11.92",
         "Long"
        ],
        [
         "38",
         "11.08",
         "Long"
        ],
        [
         "39",
         "8.5",
         "Mid"
        ],
        [
         "40",
         "22.08",
         "Long"
        ],
        [
         "41",
         "2.75",
         "Short"
        ],
        [
         "42",
         "12.0",
         "Long"
        ],
        [
         "43",
         "2.83",
         "Short"
        ],
        [
         "44",
         "2.83",
         "Short"
        ],
        [
         "45",
         "2.25",
         "Short"
        ],
        [
         "46",
         "16.08",
         "Long"
        ],
        [
         "47",
         "19.92",
         "Long"
        ],
        [
         "48",
         "3.25",
         "Short"
        ],
        [
         "49",
         "25.33",
         "Long"
        ]
       ],
       "shape": {
        "columns": 2,
        "rows": 10660
       }
      },
      "text/html": [
       "<div>\n",
       "<style scoped>\n",
       "    .dataframe tbody tr th:only-of-type {\n",
       "        vertical-align: middle;\n",
       "    }\n",
       "\n",
       "    .dataframe tbody tr th {\n",
       "        vertical-align: top;\n",
       "    }\n",
       "\n",
       "    .dataframe thead th {\n",
       "        text-align: right;\n",
       "    }\n",
       "</style>\n",
       "<table border=\"1\" class=\"dataframe\">\n",
       "  <thead>\n",
       "    <tr style=\"text-align: right;\">\n",
       "      <th></th>\n",
       "      <th>Duration</th>\n",
       "      <th>Haul</th>\n",
       "    </tr>\n",
       "  </thead>\n",
       "  <tbody>\n",
       "    <tr>\n",
       "      <th>0</th>\n",
       "      <td>19.00</td>\n",
       "      <td>Long</td>\n",
       "    </tr>\n",
       "    <tr>\n",
       "      <th>1</th>\n",
       "      <td>5.42</td>\n",
       "      <td>Mid</td>\n",
       "    </tr>\n",
       "    <tr>\n",
       "      <th>2</th>\n",
       "      <td>4.75</td>\n",
       "      <td>Mid</td>\n",
       "    </tr>\n",
       "    <tr>\n",
       "      <th>3</th>\n",
       "      <td>2.42</td>\n",
       "      <td>Short</td>\n",
       "    </tr>\n",
       "    <tr>\n",
       "      <th>4</th>\n",
       "      <td>15.50</td>\n",
       "      <td>Long</td>\n",
       "    </tr>\n",
       "    <tr>\n",
       "      <th>...</th>\n",
       "      <td>...</td>\n",
       "      <td>...</td>\n",
       "    </tr>\n",
       "    <tr>\n",
       "      <th>10655</th>\n",
       "      <td>2.50</td>\n",
       "      <td>Short</td>\n",
       "    </tr>\n",
       "    <tr>\n",
       "      <th>10656</th>\n",
       "      <td>2.58</td>\n",
       "      <td>Short</td>\n",
       "    </tr>\n",
       "    <tr>\n",
       "      <th>10657</th>\n",
       "      <td>3.00</td>\n",
       "      <td>Short</td>\n",
       "    </tr>\n",
       "    <tr>\n",
       "      <th>10658</th>\n",
       "      <td>2.67</td>\n",
       "      <td>Short</td>\n",
       "    </tr>\n",
       "    <tr>\n",
       "      <th>10659</th>\n",
       "      <td>8.33</td>\n",
       "      <td>Mid</td>\n",
       "    </tr>\n",
       "  </tbody>\n",
       "</table>\n",
       "<p>10660 rows × 2 columns</p>\n",
       "</div>"
      ],
      "text/plain": [
       "       Duration   Haul\n",
       "0         19.00   Long\n",
       "1          5.42    Mid\n",
       "2          4.75    Mid\n",
       "3          2.42  Short\n",
       "4         15.50   Long\n",
       "...         ...    ...\n",
       "10655      2.50  Short\n",
       "10656      2.58  Short\n",
       "10657      3.00  Short\n",
       "10658      2.67  Short\n",
       "10659      8.33    Mid\n",
       "\n",
       "[10660 rows x 2 columns]"
      ]
     },
     "execution_count": 8,
     "metadata": {},
     "output_type": "execute_result"
    }
   ],
   "source": [
    "import numpy as np\n",
    "duration_bins = [-np.inf, 4, 9, np.inf]\n",
    "duration_labels = ['Short', 'Mid', 'Long']\n",
    "planes['Haul'] = pd.cut(x=planes['Duration'], bins=duration_bins, labels=duration_labels)\n",
    "\n",
    "planes[['Duration', 'Haul']]"
   ]
  },
  {
   "cell_type": "code",
   "execution_count": 9,
   "id": "3aa08b91",
   "metadata": {},
   "outputs": [
    {
     "name": "stderr",
     "output_type": "stream",
     "text": [
      "C:\\Users\\Xps\\AppData\\Local\\Temp\\ipykernel_19360\\345681650.py:1: FutureWarning: The default of observed=False is deprecated and will be changed to True in a future version of pandas. Pass observed=False to retain current behavior or observed=True to adopt the future default and silence this warning.\n",
      "  planes.groupby(['Haul'])['Price'].mean()\n"
     ]
    },
    {
     "data": {
      "application/vnd.microsoft.datawrangler.viewer.v0+json": {
       "columns": [
        {
         "name": "Haul",
         "rawType": "category",
         "type": "unknown"
        },
        {
         "name": "Price",
         "rawType": "float64",
         "type": "float"
        }
       ],
       "ref": "6fb3a776-9a5e-4927-a239-e46c3d3592a1",
       "rows": [
        [
         "Short",
         "5028.750994187825"
        ],
        [
         "Mid",
         "10027.034934497817"
        ],
        [
         "Long",
         "11426.398146197598"
        ]
       ],
       "shape": {
        "columns": 1,
        "rows": 3
       }
      },
      "text/plain": [
       "Haul\n",
       "Short     5028.750994\n",
       "Mid      10027.034934\n",
       "Long     11426.398146\n",
       "Name: Price, dtype: float64"
      ]
     },
     "execution_count": 9,
     "metadata": {},
     "output_type": "execute_result"
    }
   ],
   "source": [
    "planes.groupby(['Haul'])['Price'].mean()"
   ]
  },
  {
   "cell_type": "markdown",
   "id": "856d24bc",
   "metadata": {},
   "source": [
    "## Create a cut of the price column \n",
    "## Group the dataset by the airlines and see if the interesting price differences\n",
    "## Convert the total stops column to numerical"
   ]
  },
  {
   "cell_type": "code",
   "execution_count": 10,
   "id": "c6bc0890",
   "metadata": {},
   "outputs": [
    {
     "data": {
      "text/plain": [
       "<Axes: xlabel='Price', ylabel='Count'>"
      ]
     },
     "execution_count": 10,
     "metadata": {},
     "output_type": "execute_result"
    },
    {
     "data": {
      "image/png": "[encoded data removed]",
      "text/plain": [
       "<Figure size 640x480 with 1 Axes>"
      ]
     },
     "metadata": {},
     "output_type": "display_data"
    }
   ],
   "source": [
    "sns.histplot(planes['Price'])"
   ]
  },
  {
   "cell_type": "code",
   "execution_count": 11,
   "id": "0f4c54ff",
   "metadata": {},
   "outputs": [
    {
     "data": {
      "text/plain": [
       "<Axes: xlabel='Price'>"
      ]
     },
     "execution_count": 11,
     "metadata": {},
     "output_type": "execute_result"
    },
    {
     "data": {
      "image/png": "[encoded data removed]",
      "text/plain": [
       "<Figure size 640x480 with 1 Axes>"
      ]
     },
     "metadata": {},
     "output_type": "display_data"
    }
   ],
   "source": [
    "sns.boxplot(x=planes['Price'])"
   ]
  },
  {
   "cell_type": "markdown",
   "id": "761fdb01",
   "metadata": {},
   "source": [
    "## Z-Scores\n",
    "\n",
    "- x - mu / sigma"
   ]
  },
  {
   "cell_type": "code",
   "execution_count": 12,
   "id": "7494bab0",
   "metadata": {},
   "outputs": [
    {
     "data": {
      "text/plain": [
       "<Axes: xlabel='Price_Z', ylabel='Count'>"
      ]
     },
     "execution_count": 12,
     "metadata": {},
     "output_type": "execute_result"
    },
    {
     "data": {
      "image/png": "[encoded data removed]",
      "text/plain": [
       "<Figure size 640x480 with 1 Axes>"
      ]
     },
     "metadata": {},
     "output_type": "display_data"
    }
   ],
   "source": [
    "def z_scoring(x, mu, sigma):\n",
    "    return (x -mu) / sigma\n",
    "planes['Price_Z'] = [z_scoring(x=x, mu=planes['Price'].mean(), sigma=planes['Price'].std()) \n",
    "for x in planes['Price']]\n",
    "\n",
    "sns.histplot(planes['Price_Z'])\n"
   ]
  },
  {
   "cell_type": "code",
   "execution_count": 13,
   "id": "7dffcc23",
   "metadata": {},
   "outputs": [
    {
     "data": {
      "application/vnd.microsoft.datawrangler.viewer.v0+json": {
       "columns": [
        {
         "name": "Price Band",
         "rawType": "category",
         "type": "unknown"
        },
        {
         "name": "proportion",
         "rawType": "float64",
         "type": "float"
        }
       ],
       "ref": "00a6ed0b-51e2-4d09-ba08-715ee7522f2c",
       "rows": [
        [
         "Average",
         "79.0"
        ],
        [
         "Cheap",
         "16.0"
        ],
        [
         "Expensive",
         "4.0"
        ],
        [
         "Very Expensive",
         "1.0"
        ]
       ],
       "shape": {
        "columns": 1,
        "rows": 4
       }
      },
      "text/plain": [
       "Price Band\n",
       "Average           79.0\n",
       "Cheap             16.0\n",
       "Expensive          4.0\n",
       "Very Expensive     1.0\n",
       "Name: proportion, dtype: float64"
      ]
     },
     "execution_count": 13,
     "metadata": {},
     "output_type": "execute_result"
    }
   ],
   "source": [
    "price_bins = [-np.inf, -1, 1.5, 2.5, np.inf]\n",
    "price_labels = ['Cheap', 'Average', 'Expensive', 'Very Expensive']\n",
    "planes['Price Band'] = pd.cut(x=planes['Price_Z'], bins= price_bins, labels = price_labels)\n",
    "\n",
    "round(planes['Price Band'].value_counts(normalize=True),2)*100"
   ]
  },
  {
   "cell_type": "code",
   "execution_count": 14,
   "id": "5ca8be38",
   "metadata": {},
   "outputs": [
    {
     "data": {
      "application/vnd.microsoft.datawrangler.viewer.v0+json": {
       "columns": [
        {
         "name": "Airline",
         "rawType": "object",
         "type": "string"
        },
        {
         "name": "Cheap",
         "rawType": "int64",
         "type": "integer"
        },
        {
         "name": "Average",
         "rawType": "int64",
         "type": "integer"
        },
        {
         "name": "Expensive",
         "rawType": "int64",
         "type": "integer"
        },
        {
         "name": "Very Expensive",
         "rawType": "int64",
         "type": "integer"
        }
       ],
       "ref": "42f866ea-4427-4d15-81b5-ec904f8ba040",
       "rows": [
        [
         "Air Asia",
         "136",
         "159",
         "0",
         "0"
        ],
        [
         "Air India",
         "126",
         "1419",
         "36",
         "21"
        ],
        [
         "GoAir",
         "63",
         "110",
         "2",
         "1"
        ],
        [
         "IndiGo",
         "567",
         "1294",
         "4",
         "0"
        ],
        [
         "Jet Airways",
         "142",
         "3029",
         "230",
         "86"
        ],
        [
         "Multiple carriers",
         "0",
         "993",
         "67",
         "13"
        ],
        [
         "SpiceJet",
         "548",
         "202",
         "0",
         "1"
        ],
        [
         "Vistara",
         "18",
         "410",
         "3",
         "2"
        ]
       ],
       "shape": {
        "columns": 4,
        "rows": 8
       }
      },
      "text/html": [
       "<div>\n",
       "<style scoped>\n",
       "    .dataframe tbody tr th:only-of-type {\n",
       "        vertical-align: middle;\n",
       "    }\n",
       "\n",
       "    .dataframe tbody tr th {\n",
       "        vertical-align: top;\n",
       "    }\n",
       "\n",
       "    .dataframe thead th {\n",
       "        text-align: right;\n",
       "    }\n",
       "</style>\n",
       "<table border=\"1\" class=\"dataframe\">\n",
       "  <thead>\n",
       "    <tr style=\"text-align: right;\">\n",
       "      <th>Price Band</th>\n",
       "      <th>Cheap</th>\n",
       "      <th>Average</th>\n",
       "      <th>Expensive</th>\n",
       "      <th>Very Expensive</th>\n",
       "    </tr>\n",
       "    <tr>\n",
       "      <th>Airline</th>\n",
       "      <th></th>\n",
       "      <th></th>\n",
       "      <th></th>\n",
       "      <th></th>\n",
       "    </tr>\n",
       "  </thead>\n",
       "  <tbody>\n",
       "    <tr>\n",
       "      <th>Air Asia</th>\n",
       "      <td>136</td>\n",
       "      <td>159</td>\n",
       "      <td>0</td>\n",
       "      <td>0</td>\n",
       "    </tr>\n",
       "    <tr>\n",
       "      <th>Air India</th>\n",
       "      <td>126</td>\n",
       "      <td>1419</td>\n",
       "      <td>36</td>\n",
       "      <td>21</td>\n",
       "    </tr>\n",
       "    <tr>\n",
       "      <th>GoAir</th>\n",
       "      <td>63</td>\n",
       "      <td>110</td>\n",
       "      <td>2</td>\n",
       "      <td>1</td>\n",
       "    </tr>\n",
       "    <tr>\n",
       "      <th>IndiGo</th>\n",
       "      <td>567</td>\n",
       "      <td>1294</td>\n",
       "      <td>4</td>\n",
       "      <td>0</td>\n",
       "    </tr>\n",
       "    <tr>\n",
       "      <th>Jet Airways</th>\n",
       "      <td>142</td>\n",
       "      <td>3029</td>\n",
       "      <td>230</td>\n",
       "      <td>86</td>\n",
       "    </tr>\n",
       "    <tr>\n",
       "      <th>Multiple carriers</th>\n",
       "      <td>0</td>\n",
       "      <td>993</td>\n",
       "      <td>67</td>\n",
       "      <td>13</td>\n",
       "    </tr>\n",
       "    <tr>\n",
       "      <th>SpiceJet</th>\n",
       "      <td>548</td>\n",
       "      <td>202</td>\n",
       "      <td>0</td>\n",
       "      <td>1</td>\n",
       "    </tr>\n",
       "    <tr>\n",
       "      <th>Vistara</th>\n",
       "      <td>18</td>\n",
       "      <td>410</td>\n",
       "      <td>3</td>\n",
       "      <td>2</td>\n",
       "    </tr>\n",
       "  </tbody>\n",
       "</table>\n",
       "</div>"
      ],
      "text/plain": [
       "Price Band         Cheap  Average  Expensive  Very Expensive\n",
       "Airline                                                     \n",
       "Air Asia             136      159          0               0\n",
       "Air India            126     1419         36              21\n",
       "GoAir                 63      110          2               1\n",
       "IndiGo               567     1294          4               0\n",
       "Jet Airways          142     3029        230              86\n",
       "Multiple carriers      0      993         67              13\n",
       "SpiceJet             548      202          0               1\n",
       "Vistara               18      410          3               2"
      ]
     },
     "execution_count": 14,
     "metadata": {},
     "output_type": "execute_result"
    }
   ],
   "source": [
    "pd.crosstab(index=planes['Airline'], columns=planes['Price Band'])"
   ]
  },
  {
   "cell_type": "code",
   "execution_count": 15,
   "id": "ed4a2873",
   "metadata": {},
   "outputs": [
    {
     "data": {
      "text/plain": [
       "<Axes: xlabel='count', ylabel='Airline'>"
      ]
     },
     "execution_count": 15,
     "metadata": {},
     "output_type": "execute_result"
    },
    {
     "data": {
      "image/png": "[encoded data removed]",
      "text/plain": [
       "<Figure size 640x480 with 1 Axes>"
      ]
     },
     "metadata": {},
     "output_type": "display_data"
    }
   ],
   "source": [
    "sns.countplot(data=planes, y='Airline', hue='Price Band')"
   ]
  },
  {
   "cell_type": "code",
   "execution_count": 16,
   "id": "9ab6164e",
   "metadata": {},
   "outputs": [
    {
     "data": {
      "application/vnd.microsoft.datawrangler.viewer.v0+json": {
       "columns": [
        {
         "name": "index",
         "rawType": "object",
         "type": "string"
        },
        {
         "name": "Duration",
         "rawType": "float64",
         "type": "float"
        },
        {
         "name": "Price",
         "rawType": "float64",
         "type": "float"
        }
       ],
       "ref": "2134e446-c84f-468e-836e-50bbf3d3ce87",
       "rows": [
        [
         "Duration",
         "1.0",
         "0.5245640645432762"
        ],
        [
         "Price",
         "0.5245640645432762",
         "1.0"
        ]
       ],
       "shape": {
        "columns": 2,
        "rows": 2
       }
      },
      "text/html": [
       "<div>\n",
       "<style scoped>\n",
       "    .dataframe tbody tr th:only-of-type {\n",
       "        vertical-align: middle;\n",
       "    }\n",
       "\n",
       "    .dataframe tbody tr th {\n",
       "        vertical-align: top;\n",
       "    }\n",
       "\n",
       "    .dataframe thead th {\n",
       "        text-align: right;\n",
       "    }\n",
       "</style>\n",
       "<table border=\"1\" class=\"dataframe\">\n",
       "  <thead>\n",
       "    <tr style=\"text-align: right;\">\n",
       "      <th></th>\n",
       "      <th>Duration</th>\n",
       "      <th>Price</th>\n",
       "    </tr>\n",
       "  </thead>\n",
       "  <tbody>\n",
       "    <tr>\n",
       "      <th>Duration</th>\n",
       "      <td>1.000000</td>\n",
       "      <td>0.524564</td>\n",
       "    </tr>\n",
       "    <tr>\n",
       "      <th>Price</th>\n",
       "      <td>0.524564</td>\n",
       "      <td>1.000000</td>\n",
       "    </tr>\n",
       "  </tbody>\n",
       "</table>\n",
       "</div>"
      ],
      "text/plain": [
       "          Duration     Price\n",
       "Duration  1.000000  0.524564\n",
       "Price     0.524564  1.000000"
      ]
     },
     "execution_count": 16,
     "metadata": {},
     "output_type": "execute_result"
    }
   ],
   "source": [
    "## Correlation\n",
    "planes.drop('Price_Z', axis=1).select_dtypes(include='number').corr()"
   ]
  },
  {
   "cell_type": "code",
   "execution_count": 17,
   "id": "624d58cb",
   "metadata": {},
   "outputs": [
    {
     "data": {
      "application/vnd.microsoft.datawrangler.viewer.v0+json": {
       "columns": [
        {
         "name": "index",
         "rawType": "int64",
         "type": "integer"
        },
        {
         "name": "Airline",
         "rawType": "object",
         "type": "string"
        },
        {
         "name": "Date_of_Journey",
         "rawType": "datetime64[ns]",
         "type": "datetime"
        },
        {
         "name": "Source",
         "rawType": "object",
         "type": "string"
        },
        {
         "name": "Destination",
         "rawType": "object",
         "type": "unknown"
        },
        {
         "name": "Route",
         "rawType": "object",
         "type": "unknown"
        },
        {
         "name": "Dep_Time",
         "rawType": "object",
         "type": "string"
        },
        {
         "name": "Arrival_Time",
         "rawType": "object",
         "type": "unknown"
        },
        {
         "name": "Duration",
         "rawType": "float64",
         "type": "float"
        },
        {
         "name": "Total_Stops",
         "rawType": "object",
         "type": "unknown"
        },
        {
         "name": "Additional_Info",
         "rawType": "object",
         "type": "string"
        },
        {
         "name": "Price",
         "rawType": "float64",
         "type": "float"
        },
        {
         "name": "Day of Week",
         "rawType": "object",
         "type": "string"
        },
        {
         "name": "Weekend",
         "rawType": "bool",
         "type": "boolean"
        },
        {
         "name": "Haul",
         "rawType": "category",
         "type": "unknown"
        },
        {
         "name": "Price_Z",
         "rawType": "float64",
         "type": "float"
        },
        {
         "name": "Price Band",
         "rawType": "category",
         "type": "unknown"
        }
       ],
       "ref": "177cb576-e546-4021-b3ab-07ea1d1faac3",
       "rows": [
        [
         "1382",
         "GoAir",
         "2019-04-03 00:00:00",
         "Delhi",
         "Cochin",
         "DEL → AMD → COK",
         "07:25",
         "13:35",
         "6.17",
         "1 stop",
         "No info",
         null,
         "Wednesday",
         "False",
         "Mid",
         null,
         null
        ],
        [
         "4349",
         "GoAir",
         "2019-05-01 00:00:00",
         "Banglore",
         null,
         "BLR → DEL",
         "07:45",
         "10:40",
         "2.92",
         "non-stop",
         "No info",
         null,
         "Wednesday",
         "False",
         "Short",
         null,
         null
        ],
        [
         "5903",
         "GoAir",
         "2019-05-09 00:00:00",
         "Kolkata",
         "Banglore",
         "CCU → BOM → BLR",
         "23:30",
         "07:45 10 May",
         "8.25",
         "1 stop",
         "No info",
         null,
         "Thursday",
         "False",
         "Mid",
         null,
         null
        ],
        [
         "6573",
         "GoAir",
         "2019-04-15 00:00:00",
         "Delhi",
         "Cochin",
         "DEL → BOM → COK",
         "07:00",
         "12:55",
         "5.92",
         null,
         "No info",
         null,
         "Monday",
         "False",
         "Mid",
         null,
         null
        ],
        [
         "7365",
         "GoAir",
         "2019-05-06 00:00:00",
         "Kolkata",
         "Banglore",
         "CCU → BOM → BLR",
         "23:30",
         "07:45 07 May",
         "8.25",
         "1 stop",
         "No info",
         null,
         "Monday",
         "False",
         "Mid",
         null,
         null
        ],
        [
         "9779",
         "GoAir",
         "2019-06-27 00:00:00",
         "Delhi",
         "Cochin",
         null,
         "14:25",
         null,
         "5.17",
         "1 stop",
         "No info",
         null,
         "Thursday",
         "False",
         "Mid",
         null,
         null
        ]
       ],
       "shape": {
        "columns": 16,
        "rows": 6
       }
      },
      "text/html": [
       "<div>\n",
       "<style scoped>\n",
       "    .dataframe tbody tr th:only-of-type {\n",
       "        vertical-align: middle;\n",
       "    }\n",
       "\n",
       "    .dataframe tbody tr th {\n",
       "        vertical-align: top;\n",
       "    }\n",
       "\n",
       "    .dataframe thead th {\n",
       "        text-align: right;\n",
       "    }\n",
       "</style>\n",
       "<table border=\"1\" class=\"dataframe\">\n",
       "  <thead>\n",
       "    <tr style=\"text-align: right;\">\n",
       "      <th></th>\n",
       "      <th>Airline</th>\n",
       "      <th>Date_of_Journey</th>\n",
       "      <th>Source</th>\n",
       "      <th>Destination</th>\n",
       "      <th>Route</th>\n",
       "      <th>Dep_Time</th>\n",
       "      <th>Arrival_Time</th>\n",
       "      <th>Duration</th>\n",
       "      <th>Total_Stops</th>\n",
       "      <th>Additional_Info</th>\n",
       "      <th>Price</th>\n",
       "      <th>Day of Week</th>\n",
       "      <th>Weekend</th>\n",
       "      <th>Haul</th>\n",
       "      <th>Price_Z</th>\n",
       "      <th>Price Band</th>\n",
       "    </tr>\n",
       "  </thead>\n",
       "  <tbody>\n",
       "    <tr>\n",
       "      <th>1382</th>\n",
       "      <td>GoAir</td>\n",
       "      <td>2019-04-03</td>\n",
       "      <td>Delhi</td>\n",
       "      <td>Cochin</td>\n",
       "      <td>DEL → AMD → COK</td>\n",
       "      <td>07:25</td>\n",
       "      <td>13:35</td>\n",
       "      <td>6.17</td>\n",
       "      <td>1 stop</td>\n",
       "      <td>No info</td>\n",
       "      <td>NaN</td>\n",
       "      <td>Wednesday</td>\n",
       "      <td>False</td>\n",
       "      <td>Mid</td>\n",
       "      <td>NaN</td>\n",
       "      <td>NaN</td>\n",
       "    </tr>\n",
       "    <tr>\n",
       "      <th>4349</th>\n",
       "      <td>GoAir</td>\n",
       "      <td>2019-05-01</td>\n",
       "      <td>Banglore</td>\n",
       "      <td>NaN</td>\n",
       "      <td>BLR → DEL</td>\n",
       "      <td>07:45</td>\n",
       "      <td>10:40</td>\n",
       "      <td>2.92</td>\n",
       "      <td>non-stop</td>\n",
       "      <td>No info</td>\n",
       "      <td>NaN</td>\n",
       "      <td>Wednesday</td>\n",
       "      <td>False</td>\n",
       "      <td>Short</td>\n",
       "      <td>NaN</td>\n",
       "      <td>NaN</td>\n",
       "    </tr>\n",
       "    <tr>\n",
       "      <th>5903</th>\n",
       "      <td>GoAir</td>\n",
       "      <td>2019-05-09</td>\n",
       "      <td>Kolkata</td>\n",
       "      <td>Banglore</td>\n",
       "      <td>CCU → BOM → BLR</td>\n",
       "      <td>23:30</td>\n",
       "      <td>07:45 10 May</td>\n",
       "      <td>8.25</td>\n",
       "      <td>1 stop</td>\n",
       "      <td>No info</td>\n",
       "      <td>NaN</td>\n",
       "      <td>Thursday</td>\n",
       "      <td>False</td>\n",
       "      <td>Mid</td>\n",
       "      <td>NaN</td>\n",
       "      <td>NaN</td>\n",
       "    </tr>\n",
       "    <tr>\n",
       "      <th>6573</th>\n",
       "      <td>GoAir</td>\n",
       "      <td>2019-04-15</td>\n",
       "      <td>Delhi</td>\n",
       "      <td>Cochin</td>\n",
       "      <td>DEL → BOM → COK</td>\n",
       "      <td>07:00</td>\n",
       "      <td>12:55</td>\n",
       "      <td>5.92</td>\n",
       "      <td>NaN</td>\n",
       "      <td>No info</td>\n",
       "      <td>NaN</td>\n",
       "      <td>Monday</td>\n",
       "      <td>False</td>\n",
       "      <td>Mid</td>\n",
       "      <td>NaN</td>\n",
       "      <td>NaN</td>\n",
       "    </tr>\n",
       "    <tr>\n",
       "      <th>7365</th>\n",
       "      <td>GoAir</td>\n",
       "      <td>2019-05-06</td>\n",
       "      <td>Kolkata</td>\n",
       "      <td>Banglore</td>\n",
       "      <td>CCU → BOM → BLR</td>\n",
       "      <td>23:30</td>\n",
       "      <td>07:45 07 May</td>\n",
       "      <td>8.25</td>\n",
       "      <td>1 stop</td>\n",
       "      <td>No info</td>\n",
       "      <td>NaN</td>\n",
       "      <td>Monday</td>\n",
       "      <td>False</td>\n",
       "      <td>Mid</td>\n",
       "      <td>NaN</td>\n",
       "      <td>NaN</td>\n",
       "    </tr>\n",
       "    <tr>\n",
       "      <th>9779</th>\n",
       "      <td>GoAir</td>\n",
       "      <td>2019-06-27</td>\n",
       "      <td>Delhi</td>\n",
       "      <td>Cochin</td>\n",
       "      <td>NaN</td>\n",
       "      <td>14:25</td>\n",
       "      <td>NaN</td>\n",
       "      <td>5.17</td>\n",
       "      <td>1 stop</td>\n",
       "      <td>No info</td>\n",
       "      <td>NaN</td>\n",
       "      <td>Thursday</td>\n",
       "      <td>False</td>\n",
       "      <td>Mid</td>\n",
       "      <td>NaN</td>\n",
       "      <td>NaN</td>\n",
       "    </tr>\n",
       "  </tbody>\n",
       "</table>\n",
       "</div>"
      ],
      "text/plain": [
       "     Airline Date_of_Journey    Source Destination            Route Dep_Time  \\\n",
       "1382   GoAir      2019-04-03     Delhi      Cochin  DEL → AMD → COK    07:25   \n",
       "4349   GoAir      2019-05-01  Banglore         NaN        BLR → DEL    07:45   \n",
       "5903   GoAir      2019-05-09   Kolkata    Banglore  CCU → BOM → BLR    23:30   \n",
       "6573   GoAir      2019-04-15     Delhi      Cochin  DEL → BOM → COK    07:00   \n",
       "7365   GoAir      2019-05-06   Kolkata    Banglore  CCU → BOM → BLR    23:30   \n",
       "9779   GoAir      2019-06-27     Delhi      Cochin              NaN    14:25   \n",
       "\n",
       "      Arrival_Time  Duration Total_Stops Additional_Info  Price Day of Week  \\\n",
       "1382         13:35      6.17      1 stop         No info    NaN   Wednesday   \n",
       "4349         10:40      2.92    non-stop         No info    NaN   Wednesday   \n",
       "5903  07:45 10 May      8.25      1 stop         No info    NaN    Thursday   \n",
       "6573         12:55      5.92         NaN         No info    NaN      Monday   \n",
       "7365  07:45 07 May      8.25      1 stop         No info    NaN      Monday   \n",
       "9779           NaN      5.17      1 stop         No info    NaN    Thursday   \n",
       "\n",
       "      Weekend   Haul  Price_Z Price Band  \n",
       "1382    False    Mid      NaN        NaN  \n",
       "4349    False  Short      NaN        NaN  \n",
       "5903    False    Mid      NaN        NaN  \n",
       "6573    False    Mid      NaN        NaN  \n",
       "7365    False    Mid      NaN        NaN  \n",
       "9779    False    Mid      NaN        NaN  "
      ]
     },
     "execution_count": 17,
     "metadata": {},
     "output_type": "execute_result"
    }
   ],
   "source": [
    "planes.loc[(planes['Airline']=='GoAir')&(planes['Price'].isnull())]"
   ]
  },
  {
   "cell_type": "code",
   "execution_count": 18,
   "id": "c25de72d",
   "metadata": {},
   "outputs": [
    {
     "data": {
      "application/vnd.microsoft.datawrangler.viewer.v0+json": {
       "columns": [
        {
         "name": "Airline",
         "rawType": "object",
         "type": "string"
        },
        {
         "name": "mean",
         "rawType": "float64",
         "type": "float"
        },
        {
         "name": "std",
         "rawType": "float64",
         "type": "float"
        },
        {
         "name": "median",
         "rawType": "float64",
         "type": "float"
        },
        {
         "name": "range_",
         "rawType": "float64",
         "type": "float"
        }
       ],
       "ref": "3d43f9cb-b398-4663-97f7-70dbb369aa5e",
       "rows": [
        [
         "Air Asia",
         "5629.657627118644",
         "2016.7389539135806",
         "5192.0",
         "10091.0"
        ],
        [
         "Air India",
         "9593.015605493134",
         "3865.8719749303773",
         "9443.0",
         "29895.0"
        ],
        [
         "GoAir",
         "5914.477272727273",
         "2790.815129168322",
         "5135.0",
         "19396.0"
        ],
        [
         "IndiGo",
         "5684.994638069705",
         "2266.7535516977437",
         "5013.0",
         "17458.0"
        ],
        [
         "Jet Airways",
         "11605.228850014339",
         "4230.748839687194",
         "11467.0",
         "52986.0"
        ],
        [
         "Multiple carriers",
         "10867.18918918919",
         "3763.674705621325",
         "9871.0",
         "31186.0"
        ],
        [
         "SpiceJet",
         "4290.035952063915",
         "1790.8519440122325",
         "3873.0",
         "21508.0"
        ],
        [
         "Vistara",
         "7831.2609699769055",
         "2864.2678018183487",
         "8028.0",
         "18043.0"
        ]
       ],
       "shape": {
        "columns": 4,
        "rows": 8
       }
      },
      "text/html": [
       "<div>\n",
       "<style scoped>\n",
       "    .dataframe tbody tr th:only-of-type {\n",
       "        vertical-align: middle;\n",
       "    }\n",
       "\n",
       "    .dataframe tbody tr th {\n",
       "        vertical-align: top;\n",
       "    }\n",
       "\n",
       "    .dataframe thead th {\n",
       "        text-align: right;\n",
       "    }\n",
       "</style>\n",
       "<table border=\"1\" class=\"dataframe\">\n",
       "  <thead>\n",
       "    <tr style=\"text-align: right;\">\n",
       "      <th></th>\n",
       "      <th>mean</th>\n",
       "      <th>std</th>\n",
       "      <th>median</th>\n",
       "      <th>range_</th>\n",
       "    </tr>\n",
       "    <tr>\n",
       "      <th>Airline</th>\n",
       "      <th></th>\n",
       "      <th></th>\n",
       "      <th></th>\n",
       "      <th></th>\n",
       "    </tr>\n",
       "  </thead>\n",
       "  <tbody>\n",
       "    <tr>\n",
       "      <th>Air Asia</th>\n",
       "      <td>5629.657627</td>\n",
       "      <td>2016.738954</td>\n",
       "      <td>5192.0</td>\n",
       "      <td>10091.0</td>\n",
       "    </tr>\n",
       "    <tr>\n",
       "      <th>Air India</th>\n",
       "      <td>9593.015605</td>\n",
       "      <td>3865.871975</td>\n",
       "      <td>9443.0</td>\n",
       "      <td>29895.0</td>\n",
       "    </tr>\n",
       "    <tr>\n",
       "      <th>GoAir</th>\n",
       "      <td>5914.477273</td>\n",
       "      <td>2790.815129</td>\n",
       "      <td>5135.0</td>\n",
       "      <td>19396.0</td>\n",
       "    </tr>\n",
       "    <tr>\n",
       "      <th>IndiGo</th>\n",
       "      <td>5684.994638</td>\n",
       "      <td>2266.753552</td>\n",
       "      <td>5013.0</td>\n",
       "      <td>17458.0</td>\n",
       "    </tr>\n",
       "    <tr>\n",
       "      <th>Jet Airways</th>\n",
       "      <td>11605.228850</td>\n",
       "      <td>4230.748840</td>\n",
       "      <td>11467.0</td>\n",
       "      <td>52986.0</td>\n",
       "    </tr>\n",
       "    <tr>\n",
       "      <th>Multiple carriers</th>\n",
       "      <td>10867.189189</td>\n",
       "      <td>3763.674706</td>\n",
       "      <td>9871.0</td>\n",
       "      <td>31186.0</td>\n",
       "    </tr>\n",
       "    <tr>\n",
       "      <th>SpiceJet</th>\n",
       "      <td>4290.035952</td>\n",
       "      <td>1790.851944</td>\n",
       "      <td>3873.0</td>\n",
       "      <td>21508.0</td>\n",
       "    </tr>\n",
       "    <tr>\n",
       "      <th>Vistara</th>\n",
       "      <td>7831.260970</td>\n",
       "      <td>2864.267802</td>\n",
       "      <td>8028.0</td>\n",
       "      <td>18043.0</td>\n",
       "    </tr>\n",
       "  </tbody>\n",
       "</table>\n",
       "</div>"
      ],
      "text/plain": [
       "                           mean          std   median   range_\n",
       "Airline                                                       \n",
       "Air Asia            5629.657627  2016.738954   5192.0  10091.0\n",
       "Air India           9593.015605  3865.871975   9443.0  29895.0\n",
       "GoAir               5914.477273  2790.815129   5135.0  19396.0\n",
       "IndiGo              5684.994638  2266.753552   5013.0  17458.0\n",
       "Jet Airways        11605.228850  4230.748840  11467.0  52986.0\n",
       "Multiple carriers  10867.189189  3763.674706   9871.0  31186.0\n",
       "SpiceJet            4290.035952  1790.851944   3873.0  21508.0\n",
       "Vistara             7831.260970  2864.267802   8028.0  18043.0"
      ]
     },
     "execution_count": 18,
     "metadata": {},
     "output_type": "execute_result"
    }
   ],
   "source": [
    "def range_(column):\n",
    "    column = sorted(column[column.notnull()].to_numpy())\n",
    "    return column[-1] - column[0]\n",
    "planes.groupby(['Airline'])['Price'].agg(['mean', 'std', 'median',range_])"
   ]
  },
  {
   "attachments": {
    "Normal dist.png": {
     "image/png": "[encoded data removed]"
    }
   },
   "cell_type": "markdown",
   "id": "40c5af5d",
   "metadata": {},
   "source": [
    "![Normal dist.png](<attachment:Normal dist.png>)"
   ]
  },
  {
   "cell_type": "markdown",
   "id": "8a23da07",
   "metadata": {},
   "source": [
    "## Deep Dive into LOC and ILOC"
   ]
  },
  {
   "cell_type": "code",
   "execution_count": 28,
   "id": "2af95ec5",
   "metadata": {},
   "outputs": [
    {
     "data": {
      "application/vnd.microsoft.datawrangler.viewer.v0+json": {
       "columns": [
        {
         "name": "index",
         "rawType": "int64",
         "type": "integer"
        },
        {
         "name": "Airline",
         "rawType": "object",
         "type": "string"
        },
        {
         "name": "Date_of_Journey",
         "rawType": "datetime64[ns]",
         "type": "datetime"
        },
        {
         "name": "Source",
         "rawType": "object",
         "type": "unknown"
        },
        {
         "name": "Destination",
         "rawType": "object",
         "type": "unknown"
        },
        {
         "name": "Route",
         "rawType": "object",
         "type": "unknown"
        },
        {
         "name": "Dep_Time",
         "rawType": "object",
         "type": "unknown"
        },
        {
         "name": "Arrival_Time",
         "rawType": "object",
         "type": "unknown"
        },
        {
         "name": "Duration",
         "rawType": "float64",
         "type": "float"
        },
        {
         "name": "Total_Stops",
         "rawType": "object",
         "type": "unknown"
        },
        {
         "name": "Additional_Info",
         "rawType": "object",
         "type": "unknown"
        },
        {
         "name": "Price",
         "rawType": "float64",
         "type": "float"
        },
        {
         "name": "Day of Week",
         "rawType": "object",
         "type": "unknown"
        },
        {
         "name": "Weekend",
         "rawType": "bool",
         "type": "boolean"
        },
        {
         "name": "Haul",
         "rawType": "category",
         "type": "unknown"
        },
        {
         "name": "Price_Z",
         "rawType": "float64",
         "type": "float"
        },
        {
         "name": "Price Band",
         "rawType": "category",
         "type": "unknown"
        }
       ],
       "ref": "01e7130d-d2ff-4daf-8164-165a0cb7453c",
       "rows": [
        [
         "0",
         "Jet Airways",
         "2019-06-09 00:00:00",
         "Delhi",
         "Cochin",
         "DEL → LKO → BOM → COK",
         "09:25",
         "04:25 10 Jun",
         "19.0",
         "2 stops",
         "No info",
         "13882.0",
         "Sunday",
         "True",
         "Long",
         "1.0816768871229772",
         "Average"
        ],
        [
         "4",
         "Jet Airways",
         "2019-03-12 00:00:00",
         "Banglore",
         "New Delhi",
         "BLR → BOM → DEL",
         "18:55",
         "10:25 13 Mar",
         "15.5",
         "1 stop",
         "In-flight meal not included",
         "11087.0",
         "Tuesday",
         "False",
         "Long",
         "0.4567194922872435",
         "Average"
        ],
        [
         "5",
         "Jet Airways",
         "2019-03-01 00:00:00",
         "Banglore",
         "New Delhi",
         "BLR → BOM → DEL",
         "08:00",
         "05:05 02 Mar",
         "21.08",
         "1 stop",
         "No info",
         "22270.0",
         "Friday",
         "False",
         "Long",
         "2.957219866687247",
         "Very Expensive"
        ],
        [
         "6",
         "Jet Airways",
         "2019-03-12 00:00:00",
         "Banglore",
         "New Delhi",
         "BLR → BOM → DEL",
         "08:55",
         "10:25 13 Mar",
         "25.5",
         "1 stop",
         "In-flight meal not included",
         "11087.0",
         "Tuesday",
         "False",
         "Long",
         "0.4567194922872435",
         "Average"
        ],
        [
         "15",
         "Jet Airways",
         "2019-06-12 00:00:00",
         "Delhi",
         "Cochin",
         "DEL → BOM → COK",
         "14:00",
         "12:35 13 Jun",
         "22.58",
         "1 stop",
         "In-flight meal not included",
         "10262.0",
         "Wednesday",
         "False",
         "Long",
         "0.2722508515933329",
         "Average"
        ],
        [
         "17",
         "Jet Airways",
         "2019-05-27 00:00:00",
         "Delhi",
         "Cochin",
         "DEL → BOM → COK",
         "16:00",
         "12:35 28 May",
         "20.58",
         "1 stop",
         "In-flight meal not included",
         "12898.0",
         "Monday",
         "False",
         "Long",
         "0.861656108404422",
         "Average"
        ],
        [
         "23",
         "Jet Airways",
         "2019-06-09 00:00:00",
         "Delhi",
         "Cochin",
         "DEL → IDR → BOM → COK",
         "21:25",
         "12:35 10 Jun",
         "15.17",
         "2 stops",
         "No info",
         "13292.0",
         "Sunday",
         "True",
         "Long",
         "0.9497538592327865",
         "Average"
        ],
        [
         "31",
         "Jet Airways",
         "2019-06-15 00:00:00",
         "Delhi",
         "Cochin",
         "DEL → NAG → BOM → COK",
         "14:35",
         "12:35 16 Jun",
         "22.0",
         "2 stops",
         "In-flight meal not included",
         "10919.0",
         "Saturday",
         "True",
         "Long",
         "0.41915496909139266",
         "Average"
        ],
        [
         "32",
         "Jet Airways",
         "2019-05-18 00:00:00",
         "Delhi",
         "Cochin",
         "DEL → BOM → COK",
         "07:05",
         "12:35",
         "5.5",
         "1 stop",
         "In-flight meal not included",
         "12373.0",
         "Saturday",
         "True",
         "Mid",
         "0.7442669734173879",
         "Average"
        ],
        [
         "36",
         "Jet Airways",
         "2019-03-06 00:00:00",
         "Banglore",
         "New Delhi",
         "BLR → BOM → DEL",
         "07:00",
         "13:15",
         "6.25",
         "1 stop",
         "No info",
         "19225.0",
         "Wednesday",
         "False",
         "Mid",
         "2.2763628837624497",
         "Expensive"
        ],
        [
         "37",
         "Jet Airways",
         "2019-06-03 00:00:00",
         "Delhi",
         "Cochin",
         "DEL → BOM → COK",
         "07:05",
         "19:00",
         "11.92",
         "1 stop",
         "No info",
         "14924.0",
         "Monday",
         "False",
         "Long",
         "1.3146663702781953",
         "Average"
        ],
        [
         "40",
         "Jet Airways",
         "2019-05-18 00:00:00",
         "Delhi",
         "Cochin",
         "DEL → BOM → COK",
         "20:55",
         "19:00 19 May",
         "22.08",
         "1 stop",
         "In-flight meal not included",
         "12373.0",
         "Saturday",
         "True",
         "Long",
         "0.7442669734173879",
         "Average"
        ],
        [
         "47",
         "Jet Airways",
         "2019-06-27 00:00:00",
         "Delhi",
         "Cochin",
         "DEL → AMD → BOM → COK",
         "23:05",
         "19:00 28 Jun",
         "19.92",
         "2 stops",
         "In-flight meal not included",
         "11150.0",
         "Thursday",
         "False",
         "Long",
         "0.4708061884856876",
         "Average"
        ],
        [
         "49",
         "Jet Airways",
         "2019-05-01 00:00:00",
         "Kolkata",
         "Banglore",
         "CCU → DEL → BLR",
         "09:35",
         "10:55 02 May",
         "25.33",
         "1 stop",
         "No info",
         "12121.0",
         "Wednesday",
         "False",
         "Long",
         "0.6879201886236116",
         "Average"
        ],
        [
         "53",
         "Jet Airways",
         "2019-03-24 00:00:00",
         "Kolkata",
         "Banglore",
         "CCU → BOM → BLR",
         "19:45",
         "12:00 25 Mar",
         "16.25",
         "1 stop",
         "No info",
         "14231.0",
         "Sunday",
         "True",
         "Long",
         "1.1597127120953103",
         "Average"
        ],
        [
         "71",
         "Jet Airways",
         "2019-06-24 00:00:00",
         "Delhi",
         "Cochin",
         "DEL → AMD → BOM → COK",
         "23:05",
         "12:35 25 Jun",
         "13.5",
         "2 stops",
         "No info",
         "12819.0",
         "Monday",
         "False",
         "Long",
         "0.8439918385682778",
         "Average"
        ],
        [
         "78",
         "Jet Airways",
         "2019-06-09 00:00:00",
         "Kolkata",
         "Banglore",
         "CCU → BOM → BLR",
         "21:10",
         "12:00 10 Jun",
         "14.83",
         "1 stop",
         null,
         "10844.0",
         "Sunday",
         "True",
         "Long",
         "0.4023850926646735",
         "Average"
        ],
        [
         "80",
         "Jet Airways",
         "2019-05-06 00:00:00",
         "Kolkata",
         "Banglore",
         "CCU → BOM → BLR",
         "06:30",
         "04:40 07 May",
         "22.17",
         "1 stop",
         "No info",
         "13941.0",
         "Monday",
         "False",
         "Long",
         "1.0948691899119962",
         "Average"
        ],
        [
         "83",
         "Jet Airways",
         "2019-03-06 00:00:00",
         "Banglore",
         "New Delhi",
         "BLR → BOM → DEL",
         "14:05",
         "11:25 07 Mar",
         "21.33",
         "1 stop",
         "In-flight meal not included",
         "13712.0",
         "Wednesday",
         "False",
         "Long",
         "1.0436651672224138",
         "Average"
        ],
        [
         "85",
         "Jet Airways",
         "2019-06-06 00:00:00",
         "Delhi",
         "Cochin",
         "DEL → JAI → BOM → COK",
         "09:40",
         "04:25 07 Jun",
         "18.75",
         "2 stops",
         "No info",
         "13014.0",
         "Thursday",
         "False",
         "Long",
         "0.8875935172777476",
         "Average"
        ],
        [
         "87",
         "Jet Airways",
         "2019-05-24 00:00:00",
         "Kolkata",
         null,
         "CCU → DEL → BLR",
         "20:25",
         "14:25 25 May",
         "18.0",
         "1 stop",
         "In-flight meal not included",
         "10703.0",
         "Friday",
         "False",
         "Long",
         "0.37085772498244146",
         "Average"
        ],
        [
         "90",
         "Jet Airways",
         "2019-03-12 00:00:00",
         "Banglore",
         "New Delhi",
         "BLR → BOM → DEL",
         "16:55",
         "10:25 13 Mar",
         "17.5",
         "1 stop",
         "No info",
         "13817.0",
         "Tuesday",
         "False",
         "Long",
         "1.0671429942198205",
         "Average"
        ],
        [
         "97",
         "Jet Airways",
         "2019-06-12 00:00:00",
         "Delhi",
         "Cochin",
         null,
         "20:00",
         null,
         "16.58",
         "2 stops",
         "No info",
         "14300.0",
         "Wednesday",
         "False",
         "Long",
         "1.175140998407892",
         "Average"
        ],
        [
         "100",
         "Jet Airways",
         "2019-06-24 00:00:00",
         "Delhi",
         "Cochin",
         "DEL → BOM → COK",
         "20:55",
         "04:25 25 Jun",
         "7.5",
         "1 stop",
         "In-flight meal not included",
         "10262.0",
         "Monday",
         "False",
         "Mid",
         "0.2722508515933329",
         "Average"
        ],
        [
         "103",
         "Jet Airways",
         "2019-05-18 00:00:00",
         "Delhi",
         "Cochin",
         "DEL → JAI → BOM → COK",
         "19:30",
         "04:25 19 May",
         "8.92",
         "2 stops",
         "In-flight meal not included",
         "13029.0",
         "Saturday",
         "True",
         "Mid",
         "0.8909474925630914",
         "Average"
        ],
        [
         "107",
         "Jet Airways",
         "2019-05-24 00:00:00",
         "Delhi",
         "Cochin",
         "DEL → AMD → BOM → COK",
         "23:05",
         "19:00 25 May",
         "19.92",
         "2 stops",
         "No info",
         "15129.0",
         "Friday",
         "False",
         "Long",
         "1.3605040325112276",
         "Average"
        ],
        [
         "108",
         "Jet Airways",
         "2019-03-18 00:00:00",
         "Banglore",
         "New Delhi",
         "BLR → BOM → DEL",
         "14:05",
         "05:05 16 Mar",
         "15.0",
         "1 stop",
         "No info",
         "13555.0",
         "Monday",
         "False",
         "Long",
         "1.0085602259024817",
         "Average"
        ],
        [
         "111",
         "Jet Airways",
         "2019-03-06 00:00:00",
         "Delhi",
         "Cochin",
         "DEL → BOM → COK",
         "18:15",
         "04:25 07 Mar",
         "10.17",
         "1 stop",
         "No info",
         "17024.0",
         "Wednesday",
         "False",
         "Long",
         "1.7842229102263314",
         "Expensive"
        ],
        [
         "117",
         "Jet Airways",
         "2019-05-09 00:00:00",
         "Delhi",
         "Cochin",
         "DEL → BOM → COK",
         "07:05",
         "19:00",
         "11.92",
         "1 stop",
         "No info",
         "15554.0",
         "Thursday",
         "False",
         "Long",
         "1.455533332262636",
         "Average"
        ],
        [
         "124",
         "Jet Airways",
         "2019-06-12 00:00:00",
         null,
         "Banglore",
         "CCU → BOM → BLR",
         "14:05",
         "08:15 13 Jun",
         "18.17",
         "1 stop",
         "No info",
         "13044.0",
         "Wednesday",
         "False",
         "Long",
         "0.8943014678484352",
         "Average"
        ],
        [
         "125",
         "Jet Airways",
         "2019-05-06 00:00:00",
         "Kolkata",
         "Banglore",
         "CCU → BOM → BLR",
         "20:00",
         "12:00 07 May",
         "16.0",
         "1 stop",
         "No info",
         "14388.0",
         "Monday",
         "False",
         "Long",
         "1.1948176534152424",
         "Average"
        ],
        [
         "129",
         "Jet Airways",
         "2019-06-15 00:00:00",
         "Delhi",
         "Cochin",
         "DEL → BOM → COK",
         "11:30",
         "04:25 16 Jun",
         "16.92",
         "1 stop",
         "In-flight meal not included",
         "10262.0",
         "Saturday",
         "True",
         "Long",
         "0.2722508515933329",
         "Average"
        ],
        [
         "133",
         "Jet Airways",
         "2019-05-18 00:00:00",
         "Delhi",
         "Cochin",
         "DEL → AMD → BOM → COK",
         "19:10",
         "19:00 19 May",
         "23.83",
         "2 stops",
         "No info",
         "15129.0",
         "Saturday",
         "True",
         "Long",
         "1.3605040325112276",
         "Average"
        ],
        [
         "134",
         "Jet Airways",
         "2019-06-06 00:00:00",
         "Delhi",
         "Cochin",
         "DEL → NAG → BOM → COK",
         "06:45",
         "04:25 07 Jun",
         "21.67",
         "2 stops",
         "No info",
         "13376.0",
         "Thursday",
         "False",
         "Long",
         "0.9685361208307119",
         "Average"
        ],
        [
         "137",
         "Jet Airways",
         "2019-03-03 00:00:00",
         "Delhi",
         "Cochin",
         "DEL → BOM → COK",
         "08:00",
         "18:50",
         "10.83",
         "1 stop",
         "No info",
         "17024.0",
         "Sunday",
         "True",
         "Long",
         "1.7842229102263314",
         "Expensive"
        ],
        [
         "143",
         "Jet Airways",
         "2019-05-21 00:00:00",
         "Kolkata",
         "Banglore",
         "CCU → BOM → BLR",
         "20:00",
         "23:35 22 May",
         "27.58",
         "1 stop",
         "In-flight meal not included",
         "10844.0",
         "Tuesday",
         "False",
         "Long",
         "0.4023850926646735",
         "Average"
        ],
        [
         "144",
         "Jet Airways",
         "2019-06-03 00:00:00",
         "Delhi",
         "Cochin",
         "DEL → ATQ → BOM → COK",
         "20:00",
         "04:25 04 Jun",
         "8.42",
         "2 stops",
         "In-flight meal not included",
         "15318.0",
         "Monday",
         "False",
         "Mid",
         "1.4027641211065598",
         "Average"
        ],
        [
         "151",
         "Jet Airways",
         "2019-05-12 00:00:00",
         "Kolkata",
         "Banglore",
         "CCU → BOM → BLR",
         "08:25",
         "20:45",
         "12.33",
         "1 stop",
         "No info",
         "14781.0",
         "Sunday",
         "True",
         "Long",
         "1.2826918058912506",
         "Average"
        ],
        [
         "156",
         "Jet Airways",
         "2019-05-12 00:00:00",
         "Kolkata",
         "Banglore",
         "CCU → BOM → BLR",
         "16:30",
         "18:15 13 May",
         "25.75",
         "1 stop",
         "In-flight meal not included",
         "10844.0",
         "Sunday",
         "True",
         "Long",
         "0.4023850926646735",
         "Average"
        ],
        [
         "157",
         "Jet Airways",
         "2019-03-06 00:00:00",
         "Delhi",
         "Cochin",
         "DEL → BOM → COK",
         "02:15",
         "04:25 07 Mar",
         "26.17",
         "1 stop",
         "No info",
         "17024.0",
         "Wednesday",
         "False",
         "Long",
         "1.7842229102263314",
         "Expensive"
        ],
        [
         "163",
         "Jet Airways",
         "2019-05-27 00:00:00",
         "Delhi",
         "Cochin",
         "DEL → BOM → COK",
         "13:00",
         "04:25 28 May",
         "15.42",
         "1 stop",
         "In-flight meal not included",
         "12898.0",
         "Monday",
         "False",
         "Long",
         "0.861656108404422",
         "Average"
        ],
        [
         "170",
         "Jet Airways",
         null,
         "Kolkata",
         "Banglore",
         "CCU → DEL → BLR",
         "09:35",
         "21:05",
         "11.5",
         "1 stop",
         "No info",
         "14676.0",
         null,
         "False",
         "Long",
         "1.259213978893844",
         "Average"
        ],
        [
         "173",
         "Jet Airways",
         "2019-06-12 00:00:00",
         "Kolkata",
         "Banglore",
         "CCU → BOM → BLR",
         "16:30",
         "10:05 13 Jun",
         null,
         "1 stop",
         "No info",
         "13044.0",
         "Wednesday",
         "False",
         null,
         "0.8943014678484352",
         "Average"
        ],
        [
         "178",
         "Jet Airways",
         "2019-06-01 00:00:00",
         "Delhi",
         "Cochin",
         "DEL → BOM → COK",
         null,
         "04:25 02 Jun",
         "18.42",
         "1 stop",
         null,
         "10262.0",
         "Saturday",
         "True",
         "Long",
         "0.2722508515933329",
         "Average"
        ],
        [
         "185",
         "Jet Airways",
         "2019-06-06 00:00:00",
         "Kolkata",
         "Banglore",
         "CCU → DEL → BLR",
         "09:35",
         "09:45 07 Jun",
         "24.17",
         "1 stop",
         "In-flight meal not included",
         "10539.0",
         "Thursday",
         "False",
         "Long",
         "0.3341875951960156",
         "Average"
        ],
        [
         "192",
         "Jet Airways",
         "2019-03-12 00:00:00",
         "Banglore",
         "New Delhi",
         "BLR → BOM → DEL",
         "20:35",
         "15:15 13 Mar",
         "18.67",
         "1 stop",
         "In-flight meal not included",
         "11087.0",
         "Tuesday",
         "False",
         "Long",
         "0.4567194922872435",
         "Average"
        ],
        [
         "194",
         "Jet Airways",
         "2019-06-12 00:00:00",
         "Kolkata",
         "Banglore",
         "CCU → BOM → BLR",
         "16:30",
         "04:40 13 Jun",
         "12.17",
         "1 stop",
         "No info",
         "12471.0",
         "Wednesday",
         "False",
         "Long",
         "0.7661796119483009",
         "Average"
        ],
        [
         "195",
         "Jet Airways",
         "2019-06-24 00:00:00",
         "Delhi",
         "Cochin",
         "DEL → BOM → COK",
         "09:00",
         null,
         "19.42",
         "1 stop",
         "In-flight meal not included",
         "10262.0",
         "Monday",
         "False",
         "Long",
         "0.2722508515933329",
         "Average"
        ],
        [
         "206",
         "Jet Airways",
         "2019-05-21 00:00:00",
         "Kolkata",
         "Banglore",
         "CCU → BOM → BLR",
         "14:05",
         "23:35",
         "9.5",
         "1 stop",
         "In-flight meal not included",
         "10844.0",
         "Tuesday",
         "False",
         "Long",
         "0.4023850926646735",
         "Average"
        ],
        [
         "207",
         "Jet Airways",
         "2019-05-18 00:00:00",
         "Delhi",
         "Cochin",
         "DEL → AMD → BOM → COK",
         "23:05",
         "04:25 20 May",
         "29.33",
         "2 stops",
         "No info",
         "15129.0",
         "Saturday",
         "True",
         "Long",
         "1.3605040325112276",
         "Average"
        ]
       ],
       "shape": {
        "columns": 16,
        "rows": 2433
       }
      },
      "text/html": [
       "<div>\n",
       "<style scoped>\n",
       "    .dataframe tbody tr th:only-of-type {\n",
       "        vertical-align: middle;\n",
       "    }\n",
       "\n",
       "    .dataframe tbody tr th {\n",
       "        vertical-align: top;\n",
       "    }\n",
       "\n",
       "    .dataframe thead th {\n",
       "        text-align: right;\n",
       "    }\n",
       "</style>\n",
       "<table border=\"1\" class=\"dataframe\">\n",
       "  <thead>\n",
       "    <tr style=\"text-align: right;\">\n",
       "      <th></th>\n",
       "      <th>Airline</th>\n",
       "      <th>Date_of_Journey</th>\n",
       "      <th>Source</th>\n",
       "      <th>Destination</th>\n",
       "      <th>Route</th>\n",
       "      <th>Dep_Time</th>\n",
       "      <th>Arrival_Time</th>\n",
       "      <th>Duration</th>\n",
       "      <th>Total_Stops</th>\n",
       "      <th>Additional_Info</th>\n",
       "      <th>Price</th>\n",
       "      <th>Day of Week</th>\n",
       "      <th>Weekend</th>\n",
       "      <th>Haul</th>\n",
       "      <th>Price_Z</th>\n",
       "      <th>Price Band</th>\n",
       "    </tr>\n",
       "  </thead>\n",
       "  <tbody>\n",
       "    <tr>\n",
       "      <th>0</th>\n",
       "      <td>Jet Airways</td>\n",
       "      <td>2019-06-09</td>\n",
       "      <td>Delhi</td>\n",
       "      <td>Cochin</td>\n",
       "      <td>DEL → LKO → BOM → COK</td>\n",
       "      <td>09:25</td>\n",
       "      <td>04:25 10 Jun</td>\n",
       "      <td>19.00</td>\n",
       "      <td>2 stops</td>\n",
       "      <td>No info</td>\n",
       "      <td>13882.0</td>\n",
       "      <td>Sunday</td>\n",
       "      <td>True</td>\n",
       "      <td>Long</td>\n",
       "      <td>1.081677</td>\n",
       "      <td>Average</td>\n",
       "    </tr>\n",
       "    <tr>\n",
       "      <th>4</th>\n",
       "      <td>Jet Airways</td>\n",
       "      <td>2019-03-12</td>\n",
       "      <td>Banglore</td>\n",
       "      <td>New Delhi</td>\n",
       "      <td>BLR → BOM → DEL</td>\n",
       "      <td>18:55</td>\n",
       "      <td>10:25 13 Mar</td>\n",
       "      <td>15.50</td>\n",
       "      <td>1 stop</td>\n",
       "      <td>In-flight meal not included</td>\n",
       "      <td>11087.0</td>\n",
       "      <td>Tuesday</td>\n",
       "      <td>False</td>\n",
       "      <td>Long</td>\n",
       "      <td>0.456719</td>\n",
       "      <td>Average</td>\n",
       "    </tr>\n",
       "    <tr>\n",
       "      <th>5</th>\n",
       "      <td>Jet Airways</td>\n",
       "      <td>2019-03-01</td>\n",
       "      <td>Banglore</td>\n",
       "      <td>New Delhi</td>\n",
       "      <td>BLR → BOM → DEL</td>\n",
       "      <td>08:00</td>\n",
       "      <td>05:05 02 Mar</td>\n",
       "      <td>21.08</td>\n",
       "      <td>1 stop</td>\n",
       "      <td>No info</td>\n",
       "      <td>22270.0</td>\n",
       "      <td>Friday</td>\n",
       "      <td>False</td>\n",
       "      <td>Long</td>\n",
       "      <td>2.957220</td>\n",
       "      <td>Very Expensive</td>\n",
       "    </tr>\n",
       "    <tr>\n",
       "      <th>6</th>\n",
       "      <td>Jet Airways</td>\n",
       "      <td>2019-03-12</td>\n",
       "      <td>Banglore</td>\n",
       "      <td>New Delhi</td>\n",
       "      <td>BLR → BOM → DEL</td>\n",
       "      <td>08:55</td>\n",
       "      <td>10:25 13 Mar</td>\n",
       "      <td>25.50</td>\n",
       "      <td>1 stop</td>\n",
       "      <td>In-flight meal not included</td>\n",
       "      <td>11087.0</td>\n",
       "      <td>Tuesday</td>\n",
       "      <td>False</td>\n",
       "      <td>Long</td>\n",
       "      <td>0.456719</td>\n",
       "      <td>Average</td>\n",
       "    </tr>\n",
       "    <tr>\n",
       "      <th>15</th>\n",
       "      <td>Jet Airways</td>\n",
       "      <td>2019-06-12</td>\n",
       "      <td>Delhi</td>\n",
       "      <td>Cochin</td>\n",
       "      <td>DEL → BOM → COK</td>\n",
       "      <td>14:00</td>\n",
       "      <td>12:35 13 Jun</td>\n",
       "      <td>22.58</td>\n",
       "      <td>1 stop</td>\n",
       "      <td>In-flight meal not included</td>\n",
       "      <td>10262.0</td>\n",
       "      <td>Wednesday</td>\n",
       "      <td>False</td>\n",
       "      <td>Long</td>\n",
       "      <td>0.272251</td>\n",
       "      <td>Average</td>\n",
       "    </tr>\n",
       "    <tr>\n",
       "      <th>...</th>\n",
       "      <td>...</td>\n",
       "      <td>...</td>\n",
       "      <td>...</td>\n",
       "      <td>...</td>\n",
       "      <td>...</td>\n",
       "      <td>...</td>\n",
       "      <td>...</td>\n",
       "      <td>...</td>\n",
       "      <td>...</td>\n",
       "      <td>...</td>\n",
       "      <td>...</td>\n",
       "      <td>...</td>\n",
       "      <td>...</td>\n",
       "      <td>...</td>\n",
       "      <td>...</td>\n",
       "      <td>...</td>\n",
       "    </tr>\n",
       "    <tr>\n",
       "      <th>10644</th>\n",
       "      <td>Jet Airways</td>\n",
       "      <td>2019-03-12</td>\n",
       "      <td>Banglore</td>\n",
       "      <td>New Delhi</td>\n",
       "      <td>BLR → BOM → DEL</td>\n",
       "      <td>22:55</td>\n",
       "      <td>20:20 13 Mar</td>\n",
       "      <td>21.42</td>\n",
       "      <td>1 stop</td>\n",
       "      <td>In-flight meal not included</td>\n",
       "      <td>11087.0</td>\n",
       "      <td>Tuesday</td>\n",
       "      <td>False</td>\n",
       "      <td>Long</td>\n",
       "      <td>0.456719</td>\n",
       "      <td>Average</td>\n",
       "    </tr>\n",
       "    <tr>\n",
       "      <th>10645</th>\n",
       "      <td>Jet Airways</td>\n",
       "      <td>2019-05-09</td>\n",
       "      <td>Delhi</td>\n",
       "      <td>Cochin</td>\n",
       "      <td>DEL → JDH → BOM → COK</td>\n",
       "      <td>11:40</td>\n",
       "      <td>19:00</td>\n",
       "      <td>7.33</td>\n",
       "      <td>2 stops</td>\n",
       "      <td>No info</td>\n",
       "      <td>21219.0</td>\n",
       "      <td>Thursday</td>\n",
       "      <td>False</td>\n",
       "      <td>Mid</td>\n",
       "      <td>2.722218</td>\n",
       "      <td>Very Expensive</td>\n",
       "    </tr>\n",
       "    <tr>\n",
       "      <th>10649</th>\n",
       "      <td>Jet Airways</td>\n",
       "      <td>2019-06-27</td>\n",
       "      <td>Delhi</td>\n",
       "      <td>Cochin</td>\n",
       "      <td>DEL → AMD → BOM → COK</td>\n",
       "      <td>23:05</td>\n",
       "      <td>19:00 28 Jun</td>\n",
       "      <td>19.92</td>\n",
       "      <td>2 stops</td>\n",
       "      <td>In-flight meal not included</td>\n",
       "      <td>11150.0</td>\n",
       "      <td>Thursday</td>\n",
       "      <td>False</td>\n",
       "      <td>Long</td>\n",
       "      <td>0.470806</td>\n",
       "      <td>Average</td>\n",
       "    </tr>\n",
       "    <tr>\n",
       "      <th>10650</th>\n",
       "      <td>Jet Airways</td>\n",
       "      <td>2019-05-27</td>\n",
       "      <td>Delhi</td>\n",
       "      <td>Cochin</td>\n",
       "      <td>DEL → AMD → BOM → COK</td>\n",
       "      <td>13:25</td>\n",
       "      <td>04:25 28 May</td>\n",
       "      <td>15.00</td>\n",
       "      <td>2 stops</td>\n",
       "      <td>No info</td>\n",
       "      <td>16704.0</td>\n",
       "      <td>Monday</td>\n",
       "      <td>False</td>\n",
       "      <td>Long</td>\n",
       "      <td>1.712671</td>\n",
       "      <td>Expensive</td>\n",
       "    </tr>\n",
       "    <tr>\n",
       "      <th>10651</th>\n",
       "      <td>Jet Airways</td>\n",
       "      <td>2019-03-12</td>\n",
       "      <td>Banglore</td>\n",
       "      <td>New Delhi</td>\n",
       "      <td>BLR → BOM → DEL</td>\n",
       "      <td>20:35</td>\n",
       "      <td>21:20 13 Mar</td>\n",
       "      <td>24.75</td>\n",
       "      <td>1 stop</td>\n",
       "      <td>In-flight meal not included</td>\n",
       "      <td>11087.0</td>\n",
       "      <td>Tuesday</td>\n",
       "      <td>False</td>\n",
       "      <td>Long</td>\n",
       "      <td>0.456719</td>\n",
       "      <td>Average</td>\n",
       "    </tr>\n",
       "  </tbody>\n",
       "</table>\n",
       "<p>2433 rows × 16 columns</p>\n",
       "</div>"
      ],
      "text/plain": [
       "           Airline Date_of_Journey    Source Destination  \\\n",
       "0      Jet Airways      2019-06-09     Delhi      Cochin   \n",
       "4      Jet Airways      2019-03-12  Banglore   New Delhi   \n",
       "5      Jet Airways      2019-03-01  Banglore   New Delhi   \n",
       "6      Jet Airways      2019-03-12  Banglore   New Delhi   \n",
       "15     Jet Airways      2019-06-12     Delhi      Cochin   \n",
       "...            ...             ...       ...         ...   \n",
       "10644  Jet Airways      2019-03-12  Banglore   New Delhi   \n",
       "10645  Jet Airways      2019-05-09     Delhi      Cochin   \n",
       "10649  Jet Airways      2019-06-27     Delhi      Cochin   \n",
       "10650  Jet Airways      2019-05-27     Delhi      Cochin   \n",
       "10651  Jet Airways      2019-03-12  Banglore   New Delhi   \n",
       "\n",
       "                       Route Dep_Time  Arrival_Time  Duration Total_Stops  \\\n",
       "0      DEL → LKO → BOM → COK    09:25  04:25 10 Jun     19.00     2 stops   \n",
       "4            BLR → BOM → DEL    18:55  10:25 13 Mar     15.50      1 stop   \n",
       "5            BLR → BOM → DEL    08:00  05:05 02 Mar     21.08      1 stop   \n",
       "6            BLR → BOM → DEL    08:55  10:25 13 Mar     25.50      1 stop   \n",
       "15           DEL → BOM → COK    14:00  12:35 13 Jun     22.58      1 stop   \n",
       "...                      ...      ...           ...       ...         ...   \n",
       "10644        BLR → BOM → DEL    22:55  20:20 13 Mar     21.42      1 stop   \n",
       "10645  DEL → JDH → BOM → COK    11:40         19:00      7.33     2 stops   \n",
       "10649  DEL → AMD → BOM → COK    23:05  19:00 28 Jun     19.92     2 stops   \n",
       "10650  DEL → AMD → BOM → COK    13:25  04:25 28 May     15.00     2 stops   \n",
       "10651        BLR → BOM → DEL    20:35  21:20 13 Mar     24.75      1 stop   \n",
       "\n",
       "                   Additional_Info    Price Day of Week  Weekend  Haul  \\\n",
       "0                          No info  13882.0      Sunday     True  Long   \n",
       "4      In-flight meal not included  11087.0     Tuesday    False  Long   \n",
       "5                          No info  22270.0      Friday    False  Long   \n",
       "6      In-flight meal not included  11087.0     Tuesday    False  Long   \n",
       "15     In-flight meal not included  10262.0   Wednesday    False  Long   \n",
       "...                            ...      ...         ...      ...   ...   \n",
       "10644  In-flight meal not included  11087.0     Tuesday    False  Long   \n",
       "10645                      No info  21219.0    Thursday    False   Mid   \n",
       "10649  In-flight meal not included  11150.0    Thursday    False  Long   \n",
       "10650                      No info  16704.0      Monday    False  Long   \n",
       "10651  In-flight meal not included  11087.0     Tuesday    False  Long   \n",
       "\n",
       "        Price_Z      Price Band  \n",
       "0      1.081677         Average  \n",
       "4      0.456719         Average  \n",
       "5      2.957220  Very Expensive  \n",
       "6      0.456719         Average  \n",
       "15     0.272251         Average  \n",
       "...         ...             ...  \n",
       "10644  0.456719         Average  \n",
       "10645  2.722218  Very Expensive  \n",
       "10649  0.470806         Average  \n",
       "10650  1.712671       Expensive  \n",
       "10651  0.456719         Average  \n",
       "\n",
       "[2433 rows x 16 columns]"
      ]
     },
     "execution_count": 28,
     "metadata": {},
     "output_type": "execute_result"
    }
   ],
   "source": [
    "planes[(planes['Airline'] == 'Jet Airways') & (planes['Price'] > 10000)]"
   ]
  },
  {
   "cell_type": "code",
   "execution_count": 34,
   "id": "71cc4dd2",
   "metadata": {},
   "outputs": [
    {
     "data": {
      "text/plain": [
       "array([['Delhi'],\n",
       "       ['Banglore'],\n",
       "       ['Banglore'],\n",
       "       ...,\n",
       "       ['Delhi'],\n",
       "       ['Delhi'],\n",
       "       ['Banglore']], shape=(2433, 1), dtype=object)"
      ]
     },
     "execution_count": 34,
     "metadata": {},
     "output_type": "execute_result"
    }
   ],
   "source": [
    "planes.loc[(planes['Airline'] == 'Jet Airways') & (planes['Price'] > 10000), ['Source']].to_numpy()"
   ]
  },
  {
   "cell_type": "code",
   "execution_count": 60,
   "id": "592a3215",
   "metadata": {},
   "outputs": [
    {
     "data": {
      "text/plain": [
       "10660"
      ]
     },
     "execution_count": 60,
     "metadata": {},
     "output_type": "execute_result"
    }
   ],
   "source": [
    "planes.shape[0]"
   ]
  },
  {
   "cell_type": "code",
   "execution_count": 81,
   "id": "07e57fae",
   "metadata": {},
   "outputs": [
    {
     "data": {
      "application/vnd.microsoft.datawrangler.viewer.v0+json": {
       "columns": [
        {
         "name": "Additional_Info",
         "rawType": "object",
         "type": "string"
        },
        {
         "name": "count",
         "rawType": "int64",
         "type": "integer"
        }
       ],
       "ref": "94c23ae9-38aa-4ad2-9d47-286898f4634d",
       "rows": [
        [
         "No info",
         "7867"
        ],
        [
         "In-flight meal not included",
         "1874"
        ],
        [
         "No check-in baggage included",
         "299"
        ],
        [
         "1 Long layover",
         "18"
        ],
        [
         "Change airports",
         "7"
        ],
        [
         "No Info",
         "2"
        ],
        [
         "1 Short layover",
         "1"
        ],
        [
         "Business class",
         "1"
        ],
        [
         "Red-eye flight",
         "1"
        ],
        [
         "2 Long layover",
         "1"
        ]
       ],
       "shape": {
        "columns": 1,
        "rows": 10
       }
      },
      "text/plain": [
       "Additional_Info\n",
       "No info                         7867\n",
       "In-flight meal not included     1874\n",
       "No check-in baggage included     299\n",
       "1 Long layover                    18\n",
       "Change airports                    7\n",
       "No Info                            2\n",
       "1 Short layover                    1\n",
       "Business class                     1\n",
       "Red-eye flight                     1\n",
       "2 Long layover                     1\n",
       "Name: count, dtype: int64"
      ]
     },
     "execution_count": 81,
     "metadata": {},
     "output_type": "execute_result"
    }
   ],
   "source": [
    "planes['Additional_Info'].value_counts()"
   ]
  },
  {
   "cell_type": "code",
   "execution_count": null,
   "id": "ad8af179",
   "metadata": {},
   "outputs": [
    {
     "name": "stdout",
     "output_type": "stream",
     "text": [
      "Jet Airways has 58 global anomalies\n",
      "Jet Airways has 54 local anomalies\n",
      "-----------\n",
      "\n",
      "\n",
      "IndiGo has 2 local anomalies\n",
      "-----------\n",
      "\n",
      "\n",
      "SpiceJet has 1 global anomalies\n",
      "SpiceJet has 1 local anomalies\n",
      "-----------\n",
      "\n",
      "\n",
      "Multiple carriers has 9 global anomalies\n",
      "Multiple carriers has 7 local anomalies\n",
      "-----------\n",
      "\n",
      "\n",
      "Air India has 13 global anomalies\n",
      "Air India has 13 local anomalies\n",
      "-----------\n",
      "\n",
      "\n",
      "GoAir has 3 local anomalies\n",
      "-----------\n",
      "\n",
      "\n",
      "Vistara has 2 local anomalies\n",
      "-----------\n",
      "\n",
      "\n"
     ]
    }
   ],
   "source": [
    "airline_info ={\n",
    "    airline:planes.loc[planes['Airline'] == airline].reset_index() for airline in planes.loc[planes['Airline'].notnull(),'Airline'].unique()\n",
    "}\n",
    "global_75th = np.quantile(planes.loc[planes['Price'].notnull(), 'Price'],0.75 )\n",
    "global_25th = np.quantile(planes.loc[planes['Price'].notnull(), 'Price'], 0.25)\n",
    "\n",
    "global_iqr = global_75th - global_25th\n",
    "\n",
    "gb_upper = global_75th + (global_iqr * 1.5)\n",
    "gb_lower = global_25th - (global_iqr * 1.5)\n",
    "for airline, data in airline_info.items():\n",
    "    \n",
    "    ## find irregular values compared to whole dataset\n",
    "    global_anomalies = data.loc[(data['Price'] > gb_upper) | (data['Price']< gb_lower)].shape[0]\n",
    "    if global_anomalies:\n",
    "        print(f'{airline} has {global_anomalies} global anomalies')\n",
    "    \n",
    "    ## Find irregularity within the group\n",
    "    within_75th = np.quantile(data.loc[data['Price'].notnull(), 'Price'],0.75 )\n",
    "    within_25th = np.quantile(data.loc[data['Price'].notnull(), 'Price'], 0.25)\n",
    "\n",
    "    within_iqr = within_75th - within_25th\n",
    "\n",
    "    wh_upper = within_75th + (global_iqr * 1.5)\n",
    "    wh_lower = within_25th - (global_iqr * 1.5)\n",
    "\n",
    "    local_anomalies = data.loc[(data['Price'] > wh_upper) | (data['Price']< wh_lower)].shape[0]\n",
    "    if local_anomalies:\n",
    "        print(f'{airline} has {local_anomalies} local anomalies')\n",
    "        print('-----------\\n\\n')\n",
    "\n"
   ]
  },
  {
   "cell_type": "code",
   "execution_count": 82,
   "id": "69778f50",
   "metadata": {},
   "outputs": [
    {
     "data": {
      "text/plain": [
       "<Axes: xlabel='count', ylabel='Airline'>"
      ]
     },
     "execution_count": 82,
     "metadata": {},
     "output_type": "execute_result"
    },
    {
     "data": {
      "image/png": "[encoded data removed]",
      "text/plain": [
       "<Figure size 640x480 with 1 Axes>"
      ]
     },
     "metadata": {},
     "output_type": "display_data"
    }
   ],
   "source": [
    "sns.countplot(data=planes, y='Airline', hue='Price Band')"
   ]
  },
  {
   "cell_type": "markdown",
   "id": "5719c6d9",
   "metadata": {},
   "source": [
    "## Use the Haul data/duration and find anomalies for each airline\n",
    "## Bonus - for each source -> Destination (look into anomalies for price and duration)"
   ]
  }
 ],
 "metadata": {
  "kernelspec": {
   "display_name": "Python 3",
   "language": "python",
   "name": "python3"
  },
  "language_info": {
   "codemirror_mode": {
    "name": "ipython",
    "version": 3
   },
   "file_extension": ".py",
   "mimetype": "text/x-python",
   "name": "python",
   "nbconvert_exporter": "python",
   "pygments_lexer": "ipython3",
   "version": "3.13.8"
  }
 },
 "nbformat": 4,
 "nbformat_minor": 5
}
